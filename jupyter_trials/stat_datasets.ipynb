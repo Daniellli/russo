{
 "cells": [
  {
   "cell_type": "code",
   "execution_count": 1,
   "metadata": {},
   "outputs": [],
   "source": [
    "import os\n",
    "import json\n",
    "\n",
    "import os.path as osp\n",
    "\n",
    "import pandas as pd \n",
    "\n",
    "from collections import Counter\n",
    "\n",
    "import numpy as np\n",
    "\n",
    "from loguru import logger\n",
    "from scanrefer_entity import ScanReferEntity\n",
    "from nr3d_entity import NR3DEntity\n",
    "\n",
    "\n",
    "os.chdir(osp.dirname(os.getcwd()))\n",
    "\n"
   ]
  },
  {
   "cell_type": "code",
   "execution_count": 2,
   "metadata": {},
   "outputs": [
    {
     "name": "stderr",
     "output_type": "stream",
     "text": [
      "2022-11-15 13:49:22.205 | INFO     | data_util:get_scanrefer:72 -  len of train split : 36665\n",
      "2022-11-15 13:49:22.252 | INFO     | scanrefer_entity:get_all_ann_by_scanid:58 -  length : 7191,ratio: 0.2\n"
     ]
    }
   ],
   "source": [
    "a = ScanReferEntity('scanrefer','train',0.2,init_anno=True)"
   ]
  },
  {
   "cell_type": "code",
   "execution_count": 2,
   "metadata": {},
   "outputs": [],
   "source": [
    "# from glob import glob\n",
    "# from my_script.utils import readtxt\n",
    "# consistency_list_qualitative_res_path = \"/data3/xusc/exp/butd_detr/logs\"\n",
    "\n",
    "# all_data = {}\n",
    "\n",
    "# for f in glob(consistency_list_qualitative_res_path+\"/scanrefer20*\" ):\n",
    "#     data = np.loadtxt(f,delimiter='\\n',dtype=np.str0).tolist()\n",
    "#     name = f.split('/')[-1].split('.')[0]\n",
    "#     print(len(data),name)\n",
    "#     all_data[name] = data"
   ]
  },
  {
   "cell_type": "code",
   "execution_count": 3,
   "metadata": {},
   "outputs": [],
   "source": [
    "# pick_samples = []\n",
    "# for x in all_data['scanrefer20_all_consistenct_loss']:\n",
    "#     if x not in  all_data['scanrefer20_no_constrastive_soft_token_consistency_loss_qualitative_list'] and \\\n",
    "#         x not in  all_data['scanrefer20_no_contrastive_consistency_loss_qualitative_list'] and \\\n",
    "#             x not in  all_data['scanrefer20_no_soft_token_consistency_loss_qualitative_list']:\n",
    "#             pick_samples.append(x)\n",
    "\n",
    "# len(pick_samples)\n",
    "# np.savetxt(osp.join(consistency_list_qualitative_res_path,'only_all_consistency_works_qua_list.txt'),pick_samples,fmt=\"%s\")"
   ]
  },
  {
   "cell_type": "code",
   "execution_count": 5,
   "metadata": {},
   "outputs": [
    {
     "name": "stderr",
     "output_type": "stream",
     "text": [
      "2022-11-15 12:54:00.240 | INFO     | nr3d_entity:get_split_list:21 -  length : 511\n",
      "2022-11-15 12:54:04.366 | INFO     | nr3d_entity:get_all_ann_by_scanid:63 - annos num = 30037\n"
     ]
    }
   ],
   "source": [
    "\n",
    "\n",
    "\n",
    "\n",
    "\n",
    "\n",
    "\n",
    "\n",
    "\n",
    "# for ratio in np.linspace(0.1,0.9,9):\n",
    "#     logger.info(ratio)\n",
    "#     NR3DEntity('nr3d','train',round(ratio,1))\n",
    "#     logger.info(\"==================================================================\")\n",
    "\n",
    "# a = NR3DEntity('nr3d','train')\n",
    "# a.split_labeled_according_assignment_id(0.5)\n",
    "\n",
    "\n",
    "# for ratio in np.linspace(0.1,0.9,9):\n",
    "#     logger.info(ratio)\n",
    "#     SR3DEntity('sr3d','train',round(ratio,1))\n",
    "    # logger.info(\"==================================================================\")\n",
    "# SR3DEntity('sr3d','train')\n",
    "\n"
   ]
  },
  {
   "cell_type": "markdown",
   "metadata": {},
   "source": []
  },
  {
   "cell_type": "code",
   "execution_count": 3,
   "metadata": {},
   "outputs": [
    {
     "name": "stderr",
     "output_type": "stream",
     "text": [
      "2022-11-15 13:00:25.773 | INFO     | scanrefer_entity:get_ratio_split_list:35 -  length : 112\n"
     ]
    }
   ],
   "source": []
  },
  {
   "cell_type": "code",
   "execution_count": null,
   "metadata": {},
   "outputs": [],
   "source": []
  },
  {
   "cell_type": "code",
   "execution_count": null,
   "metadata": {},
   "outputs": [],
   "source": []
  }
 ],
 "metadata": {
  "kernelspec": {
   "display_name": "Python 3.7.12 ('cerberus2')",
   "language": "python",
   "name": "python3"
  },
  "language_info": {
   "codemirror_mode": {
    "name": "ipython",
    "version": 3
   },
   "file_extension": ".py",
   "mimetype": "text/x-python",
   "name": "python",
   "nbconvert_exporter": "python",
   "pygments_lexer": "ipython3",
   "version": "3.7.12"
  },
  "orig_nbformat": 4,
  "vscode": {
   "interpreter": {
    "hash": "8c7eafccb8f457aa8ce756ee28bedbf2f0acb240aef93477faad38317e939d03"
   }
  }
 },
 "nbformat": 4,
 "nbformat_minor": 2
}
