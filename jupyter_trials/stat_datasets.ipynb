{
 "cells": [
  {
   "cell_type": "code",
   "execution_count": 1,
   "metadata": {},
   "outputs": [],
   "source": [
    "import os\n",
    "import json\n",
    "\n",
    "import os.path as osp\n",
    "\n",
    "import pandas as pd \n",
    "\n",
    "from collections import Counter\n",
    "\n",
    "import numpy as np\n",
    "\n",
    "from loguru import logger\n",
    "from scanrefer_entity import ScanReferEntity\n",
    "from nr3d_entity import NR3DEntity\n",
    "\n",
    "\n",
    "os.chdir(osp.dirname(os.getcwd()))\n",
    "\n"
   ]
  },
  {
   "cell_type": "code",
   "execution_count": 5,
   "metadata": {},
   "outputs": [
    {
     "name": "stderr",
     "output_type": "stream",
     "text": [
      "2022-11-15 15:37:34.565 | INFO     | scanrefer_entity:get_split_list:23 -  length : 562\n",
      "2022-11-15 15:37:34.807 | INFO     | data_util:get_scanrefer:72 -  len of train split : 36665\n",
      "2022-11-15 15:37:34.924 | INFO     | scanrefer_entity:get_all_ann_by_scanid:58 -  length : 36665,ratio: None\n"
     ]
    },
    {
     "data": {
      "text/plain": [
       "<scanrefer_entity.ScanReferEntity at 0x7f2309076750>"
      ]
     },
     "execution_count": 5,
     "metadata": {},
     "output_type": "execute_result"
    }
   ],
   "source": [
    "\n",
    "\n",
    "# for ratio in np.linspace(0.1,0.9,9):\n",
    "#     logger.info(ratio)\n",
    "#     ScanReferEntity('scanrefer','train',round(ratio,1),init_anno=True)\n",
    "ScanReferEntity('scanrefer','train',init_anno=True)"
   ]
  },
  {
   "cell_type": "code",
   "execution_count": 2,
   "metadata": {},
   "outputs": [],
   "source": [
    "# from glob import glob\n",
    "# from my_script.utils import readtxt\n",
    "\n",
    "# all_data = {}\n",
    "\n",
    "# for f in glob(consistency_list_qualitative_res_path+\"/scanrefer20*\" ):\n",
    "#     data = np.loadtxt(f,delimiter='\\n',dtype=np.str0).tolist()\n",
    "#     name = f.split('/')[-1].split('.')[0]\n",
    "#     print(len(data),name)\n",
    "#     all_data[name] = data"
   ]
  },
  {
   "cell_type": "code",
   "execution_count": 3,
   "metadata": {},
   "outputs": [],
   "source": [
    "# pick_samples = []\n",
    "# for x in all_data['scanrefer20_all_consistenct_loss']:\n",
    "#     if x not in  all_data['scanrefer20_no_constrastive_soft_token_consistency_loss_qualitative_list'] and \\\n",
    "#         x not in  all_data['scanrefer20_no_contrastive_consistency_loss_qualitative_list'] and \\\n",
    "#             x not in  all_data['scanrefer20_no_soft_token_consistency_loss_qualitative_list']:\n",
    "#             pick_samples.append(x)\n",
    "\n",
    "# len(pick_samples)\n",
    "# np.savetxt(osp.join(consistency_list_qualitative_res_path,'only_all_consistency_works_qua_list.txt'),pick_samples,fmt=\"%s\")"
   ]
  },
  {
   "cell_type": "code",
   "execution_count": 2,
   "metadata": {},
   "outputs": [
    {
     "name": "stderr",
     "output_type": "stream",
     "text": [
      "2022-11-15 14:49:52.864 | INFO     | nr3d_entity:get_ratio_split_list:31 -  assignment id length : 23043\n"
     ]
    },
    {
     "ename": "AttributeError",
     "evalue": "'NR3DEntity' object has no attribute 'annos'",
     "output_type": "error",
     "traceback": [
      "\u001b[0;31m---------------------------------------------------------------------------\u001b[0m",
      "\u001b[0;31mAttributeError\u001b[0m                            Traceback (most recent call last)",
      "\u001b[0;32m/tmp/ipykernel_2607818/2138859171.py\u001b[0m in \u001b[0;36m<module>\u001b[0;34m\u001b[0m\n\u001b[1;32m      3\u001b[0m \u001b[0;31m#     NR3DEntity('nr3d','train',round(ratio,1))\u001b[0m\u001b[0;34m\u001b[0m\u001b[0;34m\u001b[0m\u001b[0;34m\u001b[0m\u001b[0m\n\u001b[1;32m      4\u001b[0m \u001b[0;31m#     logger.info(\"==================================================================\")\u001b[0m\u001b[0;34m\u001b[0m\u001b[0;34m\u001b[0m\u001b[0;34m\u001b[0m\u001b[0m\n\u001b[0;32m----> 5\u001b[0;31m \u001b[0mNR3DEntity\u001b[0m\u001b[0;34m(\u001b[0m\u001b[0;34m'nr3d'\u001b[0m\u001b[0;34m,\u001b[0m\u001b[0;34m'train'\u001b[0m\u001b[0;34m,\u001b[0m\u001b[0;36m0.7\u001b[0m\u001b[0;34m)\u001b[0m\u001b[0;34m\u001b[0m\u001b[0;34m\u001b[0m\u001b[0m\n\u001b[0m\u001b[1;32m      6\u001b[0m \u001b[0;31m# a = NR3DEntity('nr3d','train')\u001b[0m\u001b[0;34m\u001b[0m\u001b[0;34m\u001b[0m\u001b[0;34m\u001b[0m\u001b[0m\n\u001b[1;32m      7\u001b[0m \u001b[0;31m# a.split_labeled_according_assignment_id(0.5)\u001b[0m\u001b[0;34m\u001b[0m\u001b[0;34m\u001b[0m\u001b[0;34m\u001b[0m\u001b[0m\n",
      "\u001b[0;32m~/exp/butd_detr/jupyter_trials/nr3d_entity.py\u001b[0m in \u001b[0;36m__init__\u001b[0;34m(self, data_name, split, ratio, split_root)\u001b[0m\n\u001b[1;32m      7\u001b[0m \u001b[0;34m\u001b[0m\u001b[0m\n\u001b[1;32m      8\u001b[0m     \u001b[0;32mdef\u001b[0m \u001b[0m__init__\u001b[0m\u001b[0;34m(\u001b[0m\u001b[0mself\u001b[0m\u001b[0;34m,\u001b[0m\u001b[0mdata_name\u001b[0m\u001b[0;34m,\u001b[0m \u001b[0msplit\u001b[0m\u001b[0;34m,\u001b[0m\u001b[0mratio\u001b[0m\u001b[0;34m=\u001b[0m\u001b[0;32mNone\u001b[0m\u001b[0;34m,\u001b[0m\u001b[0msplit_root\u001b[0m\u001b[0;34m=\u001b[0m\u001b[0;34m\"data/meta_data\"\u001b[0m\u001b[0;34m)\u001b[0m\u001b[0;34m:\u001b[0m\u001b[0;34m\u001b[0m\u001b[0;34m\u001b[0m\u001b[0m\n\u001b[0;32m----> 9\u001b[0;31m         \u001b[0msuper\u001b[0m\u001b[0;34m(\u001b[0m\u001b[0;34m)\u001b[0m\u001b[0;34m.\u001b[0m\u001b[0m__init__\u001b[0m\u001b[0;34m(\u001b[0m\u001b[0mdata_name\u001b[0m\u001b[0;34m,\u001b[0m \u001b[0msplit\u001b[0m\u001b[0;34m,\u001b[0m\u001b[0mratio\u001b[0m\u001b[0;34m,\u001b[0m\u001b[0msplit_root\u001b[0m\u001b[0;34m)\u001b[0m\u001b[0;34m\u001b[0m\u001b[0;34m\u001b[0m\u001b[0m\n\u001b[0m\u001b[1;32m     10\u001b[0m \u001b[0;34m\u001b[0m\u001b[0m\n\u001b[1;32m     11\u001b[0m \u001b[0;34m\u001b[0m\u001b[0m\n",
      "\u001b[0;32m~/exp/butd_detr/jupyter_trials/entity.py\u001b[0m in \u001b[0;36m__init__\u001b[0;34m(self, data_name, split, ratio, init_anno, split_root)\u001b[0m\n\u001b[1;32m     47\u001b[0m \u001b[0;34m\u001b[0m\u001b[0m\n\u001b[1;32m     48\u001b[0m         \u001b[0;32mif\u001b[0m \u001b[0minit_anno\u001b[0m\u001b[0;34m:\u001b[0m\u001b[0;34m\u001b[0m\u001b[0;34m\u001b[0m\u001b[0m\n\u001b[0;32m---> 49\u001b[0;31m             \u001b[0mself\u001b[0m\u001b[0;34m.\u001b[0m\u001b[0mget_all_ann\u001b[0m\u001b[0;34m(\u001b[0m\u001b[0;34m)\u001b[0m\u001b[0;34m\u001b[0m\u001b[0;34m\u001b[0m\u001b[0m\n\u001b[0m\u001b[1;32m     50\u001b[0m \u001b[0;34m\u001b[0m\u001b[0m\n\u001b[1;32m     51\u001b[0m \u001b[0;34m\u001b[0m\u001b[0m\n",
      "\u001b[0;32m~/exp/butd_detr/jupyter_trials/nr3d_entity.py\u001b[0m in \u001b[0;36mget_all_ann\u001b[0;34m(self)\u001b[0m\n\u001b[1;32m    110\u001b[0m         \u001b[0mannns\u001b[0m \u001b[0;34m=\u001b[0m \u001b[0;32mNone\u001b[0m\u001b[0;34m\u001b[0m\u001b[0;34m\u001b[0m\u001b[0m\n\u001b[1;32m    111\u001b[0m         \u001b[0;32mif\u001b[0m \u001b[0mself\u001b[0m\u001b[0;34m.\u001b[0m\u001b[0mratio\u001b[0m \u001b[0;32mis\u001b[0m \u001b[0;32mnot\u001b[0m \u001b[0;32mNone\u001b[0m\u001b[0;34m:\u001b[0m\u001b[0;34m\u001b[0m\u001b[0;34m\u001b[0m\u001b[0m\n\u001b[0;32m--> 112\u001b[0;31m             \u001b[0mannns\u001b[0m\u001b[0;34m=\u001b[0m\u001b[0mself\u001b[0m\u001b[0;34m.\u001b[0m\u001b[0mget_all_ann_by_assigmentid\u001b[0m\u001b[0;34m(\u001b[0m\u001b[0;34m)\u001b[0m\u001b[0;34m\u001b[0m\u001b[0;34m\u001b[0m\u001b[0m\n\u001b[0m\u001b[1;32m    113\u001b[0m         \u001b[0;32melse\u001b[0m\u001b[0;34m:\u001b[0m\u001b[0;34m\u001b[0m\u001b[0;34m\u001b[0m\u001b[0m\n\u001b[1;32m    114\u001b[0m             \u001b[0mannns\u001b[0m\u001b[0;34m=\u001b[0m\u001b[0mself\u001b[0m\u001b[0;34m.\u001b[0m\u001b[0mget_all_ann_by_scanid\u001b[0m\u001b[0;34m(\u001b[0m\u001b[0;34m)\u001b[0m\u001b[0;34m\u001b[0m\u001b[0;34m\u001b[0m\u001b[0m\n",
      "\u001b[0;32m~/exp/butd_detr/jupyter_trials/nr3d_entity.py\u001b[0m in \u001b[0;36mget_all_ann_by_assigmentid\u001b[0;34m(self)\u001b[0m\n\u001b[1;32m    102\u001b[0m                 \u001b[0mans\u001b[0m\u001b[0;34m.\u001b[0m\u001b[0mappend\u001b[0m\u001b[0;34m(\u001b[0m\u001b[0mann\u001b[0m\u001b[0;34m)\u001b[0m\u001b[0;34m\u001b[0m\u001b[0;34m\u001b[0m\u001b[0m\n\u001b[1;32m    103\u001b[0m \u001b[0;34m\u001b[0m\u001b[0m\n\u001b[0;32m--> 104\u001b[0;31m         \u001b[0mlogger\u001b[0m\u001b[0;34m.\u001b[0m\u001b[0minfo\u001b[0m\u001b[0;34m(\u001b[0m\u001b[0;34mf\"annos num = {len(self.annos)}\"\u001b[0m\u001b[0;34m)\u001b[0m\u001b[0;34m\u001b[0m\u001b[0;34m\u001b[0m\u001b[0m\n\u001b[0m\u001b[1;32m    105\u001b[0m         \u001b[0;32mreturn\u001b[0m \u001b[0mans\u001b[0m\u001b[0;34m\u001b[0m\u001b[0;34m\u001b[0m\u001b[0m\n\u001b[1;32m    106\u001b[0m \u001b[0;34m\u001b[0m\u001b[0m\n",
      "\u001b[0;31mAttributeError\u001b[0m: 'NR3DEntity' object has no attribute 'annos'"
     ]
    }
   ],
   "source": [
    "\n",
    "\n",
    "\n",
    "\n",
    "\n",
    "\n",
    "\n",
    "\n",
    "\n",
    "# for ratio in np.linspace(0.1,0.9,9):\n",
    "#     logger.info(ratio)\n",
    "#     NR3DEntity('nr3d','train',round(ratio,1))\n",
    "#     logger.info(\"==================================================================\")\n",
    "NR3DEntity('nr3d','train',0.7)\n",
    "# a = NR3DEntity('nr3d','train')\n",
    "# a.split_labeled_according_assignment_id(0.5)\n",
    "\n",
    "\n",
    "# for ratio in np.linspace(0.1,0.9,9):\n",
    "#     logger.info(ratio)\n",
    "#     SR3DEntity('sr3d','train',round(ratio,1))\n",
    "    # logger.info(\"==================================================================\")\n",
    "# SR3DEntity('sr3d','train')\n",
    "\n"
   ]
  },
  {
   "cell_type": "markdown",
   "metadata": {},
   "source": []
  },
  {
   "cell_type": "code",
   "execution_count": 3,
   "metadata": {},
   "outputs": [
    {
     "name": "stderr",
     "output_type": "stream",
     "text": [
      "2022-11-15 13:00:25.773 | INFO     | scanrefer_entity:get_ratio_split_list:35 -  length : 112\n"
     ]
    }
   ],
   "source": []
  },
  {
   "cell_type": "code",
   "execution_count": 11,
   "metadata": {},
   "outputs": [],
   "source": [
    "from os.path import join,split,exists\n",
    "import glob\n",
    "path = '/data/hdd01/xusc/exp/butd_detr/logs/bdetr'\n",
    "\n",
    "\n",
    "\n",
    "sr_3ds = os.listdir(join(path,'sr3d'))\n",
    "\n",
    "\n",
    "\n",
    "\n",
    "def get_ckpt_file_name(dir_name):\n",
    "    return glob.glob(join(dir_name,'*.pth'))\n",
    "\n",
    "\n",
    "for name in sr_3ds:\n",
    "    ckpt_names = get_ckpt_file_name(join(path,'sr3d',name))\n",
    "    \n",
    "    if len(ckpt_names)==0:\n",
    "        os.system(f'rm -rf {join(path,\"sr3d\",name)}')\n",
    "\n",
    "    \n",
    "    \n",
    "    \n"
   ]
  },
  {
   "cell_type": "code",
   "execution_count": 9,
   "metadata": {},
   "outputs": [
    {
     "data": {
      "text/plain": [
       "['/data/hdd01/xusc/exp/butd_detr/logs/bdetr/sr3d/1670832847/teacher_ckpt_epoch_55_best.pth',\n",
       " '/data/hdd01/xusc/exp/butd_detr/logs/bdetr/sr3d/1670832847/student_ckpt_epoch_142_best.pth']"
      ]
     },
     "execution_count": 9,
     "metadata": {},
     "output_type": "execute_result"
    }
   ],
   "source": [
    "ckpt_names"
   ]
  }
 ],
 "metadata": {
  "kernelspec": {
   "display_name": "Python 3 (ipykernel)",
   "language": "python",
   "name": "python3"
  },
  "language_info": {
   "codemirror_mode": {
    "name": "ipython",
    "version": 3
   },
   "file_extension": ".py",
   "mimetype": "text/x-python",
   "name": "python",
   "nbconvert_exporter": "python",
   "pygments_lexer": "ipython3",
   "version": "3.7.12"
  },
  "vscode": {
   "interpreter": {
    "hash": "8c7eafccb8f457aa8ce756ee28bedbf2f0acb240aef93477faad38317e939d03"
   }
  }
 },
 "nbformat": 4,
 "nbformat_minor": 2
}
