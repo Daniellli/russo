{
 "cells": [
  {
   "cell_type": "code",
   "execution_count": null,
   "metadata": {},
   "outputs": [],
   "source": [
    "import os\n",
    "import os.path as osp\n",
    "from glob import glob\n",
    "\n"
   ]
  },
  {
   "cell_type": "code",
   "execution_count": 23,
   "metadata": {},
   "outputs": [
    {
     "name": "stdout",
     "output_type": "stream",
     "text": [
      "/DATA2/xusc/exp/butd_detr/logs/bdetr/nr3d/1665935843/ckpt_epoch_5_best.pth has deleted\n",
      "/DATA2/xusc/exp/butd_detr/logs/bdetr/nr3d/1665935843/ckpt_epoch_10_best.pth has deleted\n",
      "/DATA2/xusc/exp/butd_detr/logs/bdetr/nr3d/1665935843/ckpt_epoch_15_best.pth has deleted\n",
      "/DATA2/xusc/exp/butd_detr/logs/bdetr/nr3d/1665935843/ckpt_epoch_20_best.pth has deleted\n",
      "/DATA2/xusc/exp/butd_detr/logs/bdetr/nr3d/1665935843/ckpt_epoch_25_best.pth has deleted\n",
      "/DATA2/xusc/exp/butd_detr/logs/bdetr/nr3d/1665935843/ckpt_epoch_30_best.pth has deleted\n",
      "/DATA2/xusc/exp/butd_detr/logs/bdetr/nr3d/1665935843/ckpt_epoch_35_best.pth has deleted\n",
      "/DATA2/xusc/exp/butd_detr/logs/bdetr/nr3d/1665935843/ckpt_epoch_40_best.pth has deleted\n",
      "/DATA2/xusc/exp/butd_detr/logs/bdetr/nr3d/1665935843/ckpt_epoch_45_best.pth has deleted\n",
      "/DATA2/xusc/exp/butd_detr/logs/bdetr/nr3d/1665935843/ckpt_epoch_50_best.pth has deleted\n",
      "/DATA2/xusc/exp/butd_detr/logs/bdetr/nr3d/1665935843/ckpt_epoch_55_best.pth has deleted\n",
      "/DATA2/xusc/exp/butd_detr/logs/bdetr/nr3d/1665935843/ckpt_epoch_60_best.pth has deleted\n",
      "/DATA2/xusc/exp/butd_detr/logs/bdetr/nr3d/1665935843/ckpt_epoch_65_best.pth has deleted\n",
      "/DATA2/xusc/exp/butd_detr/logs/bdetr/nr3d/1665935843/ckpt_epoch_75_best.pth has deleted\n",
      "/DATA2/xusc/exp/butd_detr/logs/bdetr/nr3d/1665935843/ckpt_epoch_80_best.pth has deleted\n",
      "/DATA2/xusc/exp/butd_detr/logs/bdetr/nr3d/1665935843/ckpt_epoch_85_best.pth has deleted\n",
      "/DATA2/xusc/exp/butd_detr/logs/bdetr/nr3d/1665935843/ckpt_epoch_95_best.pth has deleted\n",
      "/DATA2/xusc/exp/butd_detr/logs/bdetr/nr3d/1665935843/ckpt_epoch_120_best.pth has deleted\n",
      "=======================================\n",
      "/DATA2/xusc/exp/butd_detr/logs/bdetr/nr3d/1667456501/ckpt_epoch_5_best.pth has deleted\n",
      "/DATA2/xusc/exp/butd_detr/logs/bdetr/nr3d/1667456501/ckpt_epoch_10_best.pth has deleted\n",
      "/DATA2/xusc/exp/butd_detr/logs/bdetr/nr3d/1667456501/ckpt_epoch_15_best.pth has deleted\n",
      "/DATA2/xusc/exp/butd_detr/logs/bdetr/nr3d/1667456501/ckpt_epoch_20_best.pth has deleted\n",
      "/DATA2/xusc/exp/butd_detr/logs/bdetr/nr3d/1667456501/ckpt_epoch_25_best.pth has deleted\n",
      "/DATA2/xusc/exp/butd_detr/logs/bdetr/nr3d/1667456501/ckpt_epoch_30_best.pth has deleted\n",
      "/DATA2/xusc/exp/butd_detr/logs/bdetr/nr3d/1667456501/ckpt_epoch_40_best.pth has deleted\n",
      "/DATA2/xusc/exp/butd_detr/logs/bdetr/nr3d/1667456501/ckpt_epoch_45_best.pth has deleted\n",
      "/DATA2/xusc/exp/butd_detr/logs/bdetr/nr3d/1667456501/ckpt_epoch_50_best.pth has deleted\n",
      "/DATA2/xusc/exp/butd_detr/logs/bdetr/nr3d/1667456501/ckpt_epoch_60_best.pth has deleted\n",
      "/DATA2/xusc/exp/butd_detr/logs/bdetr/nr3d/1667456501/ckpt_epoch_65_best.pth has deleted\n",
      "/DATA2/xusc/exp/butd_detr/logs/bdetr/nr3d/1667456501/ckpt_epoch_70_best.pth has deleted\n",
      "/DATA2/xusc/exp/butd_detr/logs/bdetr/nr3d/1667456501/ckpt_epoch_75_best.pth has deleted\n",
      "/DATA2/xusc/exp/butd_detr/logs/bdetr/nr3d/1667456501/ckpt_epoch_80_best.pth has deleted\n",
      "/DATA2/xusc/exp/butd_detr/logs/bdetr/nr3d/1667456501/ckpt_epoch_85_best.pth has deleted\n",
      "/DATA2/xusc/exp/butd_detr/logs/bdetr/nr3d/1667456501/ckpt_epoch_90_best.pth has deleted\n",
      "/DATA2/xusc/exp/butd_detr/logs/bdetr/nr3d/1667456501/ckpt_epoch_95_best.pth has deleted\n",
      "/DATA2/xusc/exp/butd_detr/logs/bdetr/nr3d/1667456501/ckpt_epoch_100_best.pth has deleted\n",
      "/DATA2/xusc/exp/butd_detr/logs/bdetr/nr3d/1667456501/ckpt_epoch_105_best.pth has deleted\n",
      "/DATA2/xusc/exp/butd_detr/logs/bdetr/nr3d/1667456501/ckpt_epoch_110_best.pth has deleted\n",
      "/DATA2/xusc/exp/butd_detr/logs/bdetr/nr3d/1667456501/ckpt_epoch_120_best.pth has deleted\n",
      "/DATA2/xusc/exp/butd_detr/logs/bdetr/nr3d/1667456501/ckpt_epoch_125_best.pth has deleted\n",
      "/DATA2/xusc/exp/butd_detr/logs/bdetr/nr3d/1667456501/ckpt_epoch_130_best.pth has deleted\n",
      "/DATA2/xusc/exp/butd_detr/logs/bdetr/nr3d/1667456501/ckpt_epoch_150_best.pth has deleted\n",
      "/DATA2/xusc/exp/butd_detr/logs/bdetr/nr3d/1667456501/ckpt_epoch_165_best.pth has deleted\n",
      "/DATA2/xusc/exp/butd_detr/logs/bdetr/nr3d/1667456501/ckpt_epoch_170_best.pth has deleted\n",
      "/DATA2/xusc/exp/butd_detr/logs/bdetr/nr3d/1667456501/ckpt_epoch_175_best.pth has deleted\n",
      "/DATA2/xusc/exp/butd_detr/logs/bdetr/nr3d/1667456501/ckpt_epoch_215_best.pth has deleted\n",
      "/DATA2/xusc/exp/butd_detr/logs/bdetr/nr3d/1667456501/ckpt_epoch_220_best.pth has deleted\n",
      "=======================================\n",
      "/DATA2/xusc/exp/butd_detr/logs/bdetr/nr3d/1666102067/ckpt_epoch_141_best.pth has deleted\n",
      "/DATA2/xusc/exp/butd_detr/logs/bdetr/nr3d/1666102067/ckpt_epoch_142_best.pth has deleted\n",
      "/DATA2/xusc/exp/butd_detr/logs/bdetr/nr3d/1666102067/ckpt_epoch_144_best.pth has deleted\n",
      "/DATA2/xusc/exp/butd_detr/logs/bdetr/nr3d/1666102067/ckpt_epoch_145_best.pth has deleted\n",
      "/DATA2/xusc/exp/butd_detr/logs/bdetr/nr3d/1666102067/ckpt_epoch_146_best.pth has deleted\n",
      "=======================================\n",
      "/DATA2/xusc/exp/butd_detr/logs/bdetr/nr3d/1667631566/ckpt_epoch_236_best.pth has deleted\n",
      "/DATA2/xusc/exp/butd_detr/logs/bdetr/nr3d/1667631566/ckpt_epoch_237_best.pth has deleted\n",
      "/DATA2/xusc/exp/butd_detr/logs/bdetr/nr3d/1667631566/ckpt_epoch_241_best.pth has deleted\n",
      "/DATA2/xusc/exp/butd_detr/logs/bdetr/nr3d/1667631566/ckpt_epoch_242_best.pth has deleted\n",
      "=======================================\n"
     ]
    }
   ],
   "source": [
    "\n",
    "\n",
    "def delete_ckpt_except_last_one(path):\n",
    "    for o in os.listdir(path ):\n",
    "        all_ckpt = glob(osp.join(path,o)+\"/*.pth\")\n",
    "        num = len(all_ckpt)\n",
    "        if num >1:\n",
    "            all_ckpt = sorted(all_ckpt,key = lambda x : int(x.split('/')[-1].split('_')[-2]))\n",
    "            \n",
    "            for ckpt in all_ckpt[:-1]:\n",
    "                os.remove(ckpt)\n",
    "                print(ckpt,\"has deleted\")\n",
    "            print(\"=======================================\")\n",
    "\n",
    "path = \"/DATA2/xusc/exp/butd_detr/logs/bdetr/nr3d\"\n",
    "\n",
    "delete_ckpt_except_last_one(path)"
   ]
  },
  {
   "cell_type": "code",
   "execution_count": null,
   "metadata": {},
   "outputs": [],
   "source": []
  },
  {
   "cell_type": "code",
   "execution_count": null,
   "metadata": {},
   "outputs": [],
   "source": []
  }
 ],
 "metadata": {
  "kernelspec": {
   "display_name": "Python 3.7.12 ('cerberus2')",
   "language": "python",
   "name": "python3"
  },
  "language_info": {
   "codemirror_mode": {
    "name": "ipython",
    "version": 3
   },
   "file_extension": ".py",
   "mimetype": "text/x-python",
   "name": "python",
   "nbconvert_exporter": "python",
   "pygments_lexer": "ipython3",
   "version": "3.7.12"
  },
  "orig_nbformat": 4,
  "vscode": {
   "interpreter": {
    "hash": "d6c611ea97879ac7a66cc839a92507d3b630293601f06de205ed521c4e63823d"
   }
  }
 },
 "nbformat": 4,
 "nbformat_minor": 2
}
