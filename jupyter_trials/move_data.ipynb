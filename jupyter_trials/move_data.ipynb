{
 "cells": [
  {
   "cell_type": "code",
   "execution_count": 33,
   "metadata": {},
   "outputs": [
    {
     "name": "stdout",
     "output_type": "stream",
     "text": [
      "/data/xusc/exp/butd_detr/datasets/arkitscenes/dataset/3dod/Training/45662833/45662833_offline_prepared_data_2\n",
      "/data/xusc/exp/butd_detr/datasets/ARKitScenes/dataset/3dod/Training/45662833\n"
     ]
    },
    {
     "ename": "FileExistsError",
     "evalue": "[Errno 17] File exists: '/data/xusc/exp/butd_detr/datasets/ARKitScenes/dataset/3dod/Training/45662833/45662833_offline_prepared_data_2'",
     "output_type": "error",
     "traceback": [
      "\u001b[0;31m---------------------------------------------------------------------------\u001b[0m",
      "\u001b[0;31mFileExistsError\u001b[0m                           Traceback (most recent call last)",
      "\u001b[0;32m/tmp/ipykernel_3926843/2549217678.py\u001b[0m in \u001b[0;36m<module>\u001b[0;34m\u001b[0m\n\u001b[1;32m     96\u001b[0m         \u001b[0mprint\u001b[0m\u001b[0;34m(\u001b[0m\u001b[0mtarget_path\u001b[0m\u001b[0;34m)\u001b[0m\u001b[0;34m\u001b[0m\u001b[0;34m\u001b[0m\u001b[0m\n\u001b[1;32m     97\u001b[0m         \u001b[0mshutil\u001b[0m\u001b[0;34m.\u001b[0m\u001b[0mcopy\u001b[0m\u001b[0;34m(\u001b[0m\u001b[0msrc_det\u001b[0m\u001b[0;34m,\u001b[0m\u001b[0mtarget_path\u001b[0m\u001b[0;34m)\u001b[0m\u001b[0;34m\u001b[0m\u001b[0;34m\u001b[0m\u001b[0m\n\u001b[0;32m---> 98\u001b[0;31m         \u001b[0mshutil\u001b[0m\u001b[0;34m.\u001b[0m\u001b[0mcopytree\u001b[0m\u001b[0;34m(\u001b[0m\u001b[0msrc_ann\u001b[0m\u001b[0;34m,\u001b[0m\u001b[0mosp\u001b[0m\u001b[0;34m.\u001b[0m\u001b[0mjoin\u001b[0m\u001b[0;34m(\u001b[0m\u001b[0mtarget_path\u001b[0m\u001b[0;34m,\u001b[0m\u001b[0mspliter\u001b[0m\u001b[0;34m.\u001b[0m\u001b[0mget_annotation_file_name\u001b[0m\u001b[0;34m(\u001b[0m\u001b[0midx\u001b[0m\u001b[0;34m)\u001b[0m\u001b[0;34m)\u001b[0m\u001b[0;34m)\u001b[0m\u001b[0;34m\u001b[0m\u001b[0;34m\u001b[0m\u001b[0m\n\u001b[0m\u001b[1;32m     99\u001b[0m \u001b[0;34m\u001b[0m\u001b[0m\n\u001b[1;32m    100\u001b[0m \u001b[0;34m\u001b[0m\u001b[0m\n",
      "\u001b[0;32m~/miniconda3/envs/cerberus2/lib/python3.7/shutil.py\u001b[0m in \u001b[0;36mcopytree\u001b[0;34m(src, dst, symlinks, ignore, copy_function, ignore_dangling_symlinks)\u001b[0m\n\u001b[1;32m    322\u001b[0m         \u001b[0mignored_names\u001b[0m \u001b[0;34m=\u001b[0m \u001b[0mset\u001b[0m\u001b[0;34m(\u001b[0m\u001b[0;34m)\u001b[0m\u001b[0;34m\u001b[0m\u001b[0;34m\u001b[0m\u001b[0m\n\u001b[1;32m    323\u001b[0m \u001b[0;34m\u001b[0m\u001b[0m\n\u001b[0;32m--> 324\u001b[0;31m     \u001b[0mos\u001b[0m\u001b[0;34m.\u001b[0m\u001b[0mmakedirs\u001b[0m\u001b[0;34m(\u001b[0m\u001b[0mdst\u001b[0m\u001b[0;34m)\u001b[0m\u001b[0;34m\u001b[0m\u001b[0;34m\u001b[0m\u001b[0m\n\u001b[0m\u001b[1;32m    325\u001b[0m     \u001b[0merrors\u001b[0m \u001b[0;34m=\u001b[0m \u001b[0;34m[\u001b[0m\u001b[0;34m]\u001b[0m\u001b[0;34m\u001b[0m\u001b[0;34m\u001b[0m\u001b[0m\n\u001b[1;32m    326\u001b[0m     \u001b[0;32mfor\u001b[0m \u001b[0mname\u001b[0m \u001b[0;32min\u001b[0m \u001b[0mnames\u001b[0m\u001b[0;34m:\u001b[0m\u001b[0;34m\u001b[0m\u001b[0;34m\u001b[0m\u001b[0m\n",
      "\u001b[0;32m~/miniconda3/envs/cerberus2/lib/python3.7/os.py\u001b[0m in \u001b[0;36mmakedirs\u001b[0;34m(name, mode, exist_ok)\u001b[0m\n\u001b[1;32m    221\u001b[0m             \u001b[0;32mreturn\u001b[0m\u001b[0;34m\u001b[0m\u001b[0;34m\u001b[0m\u001b[0m\n\u001b[1;32m    222\u001b[0m     \u001b[0;32mtry\u001b[0m\u001b[0;34m:\u001b[0m\u001b[0;34m\u001b[0m\u001b[0;34m\u001b[0m\u001b[0m\n\u001b[0;32m--> 223\u001b[0;31m         \u001b[0mmkdir\u001b[0m\u001b[0;34m(\u001b[0m\u001b[0mname\u001b[0m\u001b[0;34m,\u001b[0m \u001b[0mmode\u001b[0m\u001b[0;34m)\u001b[0m\u001b[0;34m\u001b[0m\u001b[0;34m\u001b[0m\u001b[0m\n\u001b[0m\u001b[1;32m    224\u001b[0m     \u001b[0;32mexcept\u001b[0m \u001b[0mOSError\u001b[0m\u001b[0;34m:\u001b[0m\u001b[0;34m\u001b[0m\u001b[0;34m\u001b[0m\u001b[0m\n\u001b[1;32m    225\u001b[0m         \u001b[0;31m# Cannot rely on checking for EEXIST, since the operating system\u001b[0m\u001b[0;34m\u001b[0m\u001b[0;34m\u001b[0m\u001b[0;34m\u001b[0m\u001b[0m\n",
      "\u001b[0;31mFileExistsError\u001b[0m: [Errno 17] File exists: '/data/xusc/exp/butd_detr/datasets/ARKitScenes/dataset/3dod/Training/45662833/45662833_offline_prepared_data_2'"
     ]
    }
   ],
   "source": [
    "import numpy as np\n",
    "import os.path as osp\n",
    "import sys\n",
    "root = \"/data/xusc/exp/butd_detr\"\n",
    "sys.path.append(root)\n",
    "from utils import make_dirs\n",
    "\n",
    "import shutil \n",
    "\n",
    "from tqdm import tqdm \n",
    "class ARKitScene:\n",
    "    def __init__(self, split):\n",
    "        src_path = '/data/xusc/exp/butd_detr/datasets/arkitscenes/dataset/3dod'        \n",
    "        self.split=split\n",
    "        self.detected_path =\"/data/xusc/exp/butd_detr/datasets/fcaf3d_arkitscenes/submit\"\n",
    "        \n",
    "        if split==\"train\":\n",
    "            self.split_branch = 'Training'\n",
    "            \n",
    "            self.path = osp.join(src_path,self.split_branch)\n",
    "        else :\n",
    "            self.split_branch = 'Validation'\n",
    "            self.path = osp.join(src_path,self.split_branch)\n",
    "\n",
    "        self.parse_all_scene()\n",
    "\n",
    "        self.annotation_format= \"%s_offline_prepared_data_2\"\n",
    "        self.detected_format= \"%s.bin\"\n",
    "        \n",
    "\n",
    "    def get_split_branch(self):\n",
    "        return self.split_branch \n",
    "        \n",
    "    def parse_all_scene(self):\n",
    "        self.all_scene = os.listdir(self.path)\n",
    "\n",
    "    def get_len(self):\n",
    "        return len(self.all_scene)\n",
    "    \n",
    "    def get_scene_name(self,idx):\n",
    "        return self.all_scene[idx]\n",
    "\n",
    "\n",
    "    def get_annotation_file_name(self,idx):\n",
    "        \n",
    "        return self.annotation_format%(self.all_scene[idx])\n",
    "\n",
    "\n",
    "    def get_annotation_path(self,index):\n",
    "        \n",
    "        scene_name =self.all_scene[index]\n",
    "\n",
    "        scene_path = osp.join(self.path, scene_name,self.get_annotation_file_name(index))\n",
    "\n",
    "        return scene_path\n",
    "\n",
    "\n",
    "    \n",
    "    def get_detected_res_path(self,index):\n",
    "        scene_name =self.all_scene[index]\n",
    "        return osp.join(self.detected_path,self.detected_format%(scene_name))\n",
    "\n",
    "\n",
    "        \n",
    "\n",
    "\n",
    "\n",
    "splits= ['train','test']\n",
    "\n",
    "target_dir = \"/data/xusc/exp/butd_detr/datasets/ARKitScenes/dataset/3dod\"\n",
    "\n",
    "\n",
    "for split in splits:\n",
    "\n",
    "    spliter = ARKitScene(split)\n",
    "\n",
    "        \n",
    "    target_path_split_root = osp.join(target_dir,spliter.get_split_branch())\n",
    "    \n",
    "    make_dirs(target_path_split_root)\n",
    "    \n",
    "    for idx in tqdm(range(spliter.get_len())):\n",
    "        scene_name = spliter.get_scene_name(idx)\n",
    "        target_path = osp.join(target_path_split_root,scene_name)\n",
    "        make_dirs(target_path)\n",
    "        src_det = spliter.get_detected_res_path(idx)\n",
    "        src_ann = spliter.get_annotation_path(idx)\n",
    "        shutil.copy(src_det,target_path)\n",
    "        shutil.copytree(src_ann,osp.join(target_path,spliter.get_annotation_file_name(idx)))\n",
    "    \n"
   ]
  },
  {
   "cell_type": "code",
   "execution_count": null,
   "metadata": {},
   "outputs": [],
   "source": []
  },
  {
   "cell_type": "code",
   "execution_count": null,
   "metadata": {},
   "outputs": [],
   "source": []
  },
  {
   "cell_type": "code",
   "execution_count": null,
   "metadata": {},
   "outputs": [],
   "source": []
  },
  {
   "cell_type": "code",
   "execution_count": null,
   "metadata": {},
   "outputs": [],
   "source": []
  }
 ],
 "metadata": {
  "kernelspec": {
   "display_name": "Python 3.7.12 ('cerberus2')",
   "language": "python",
   "name": "python3"
  },
  "language_info": {
   "codemirror_mode": {
    "name": "ipython",
    "version": 3
   },
   "file_extension": ".py",
   "mimetype": "text/x-python",
   "name": "python",
   "nbconvert_exporter": "python",
   "pygments_lexer": "ipython3",
   "version": "3.7.12"
  },
  "orig_nbformat": 4,
  "vscode": {
   "interpreter": {
    "hash": "8c7eafccb8f457aa8ce756ee28bedbf2f0acb240aef93477faad38317e939d03"
   }
  }
 },
 "nbformat": 4,
 "nbformat_minor": 2
}
