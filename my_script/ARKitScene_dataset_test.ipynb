{
 "cells": [
  {
   "cell_type": "code",
   "execution_count": 1,
   "metadata": {},
   "outputs": [],
   "source": [
    "import os \n",
    "\n",
    "import os.path as osp\n",
    "\n",
    "import shutil\n",
    "os.chdir(osp.dirname(os.getcwd()))\n"
   ]
  },
  {
   "cell_type": "code",
   "execution_count": 2,
   "metadata": {},
   "outputs": [
    {
     "name": "stdout",
     "output_type": "stream",
     "text": [
      "Jupyter environment detected. Enabling Open3D WebVisualizer.\n",
      "[Open3D INFO] WebRTC GUI backend enabled.\n",
      "[Open3D INFO] WebRTCWindowSystem: HTTP handshake server disabled.\n"
     ]
    },
    {
     "name": "stderr",
     "output_type": "stream",
     "text": [
      "WARNING - 2022-10-19 14:29:15,079 - collision - No FCL -- collision checking will not work\n",
      "WARNING - 2022-10-19 14:29:15,212 - svg_io - SVG path loading unavailable!\n"
     ]
    }
   ],
   "source": [
    "from data.model_util_scannet import ScannetDatasetConfig\n",
    "import numpy as np \n",
    "import sys\n",
    "from src.arkitscenes_dataset import ARKitSceneDataset\n",
    "from loguru import logger\n",
    "\n",
    "from my_script.pc_utils import *\n",
    "from my_script.utils import *\n",
    "\n",
    "from src.joint_det_dataset import Joint3DDataset\n",
    "\n",
    "\n"
   ]
  },
  {
   "cell_type": "code",
   "execution_count": 3,
   "metadata": {},
   "outputs": [
    {
     "name": "stdout",
     "output_type": "stream",
     "text": [
      "Loading train files, take a breath!\n"
     ]
    }
   ],
   "source": [
    "def get_attr(data):\n",
    "    return list(data.keys())\n",
    "\n",
    "def print_attr_shape(data):\n",
    "    for k,v in data.items():\n",
    "        if   isinstance(v,str):\n",
    "            \n",
    "            logger.info(f\"{k} : {v}\")\n",
    "        elif   isinstance(v,bool):\n",
    "            logger.info(f\"{k} : {v}\")\n",
    "        elif   isinstance(v,int):\n",
    "            logger.info(f\"{k} : {v}\")\n",
    "        else :\n",
    "            logger.info(f\"{k} : {v.shape}\")\n",
    "            \n",
    "train_dataset = Joint3DDataset(\n",
    "            dataset_dict={'sr3d':1,'scannet':10},\n",
    "            test_dataset='sr3d', #? only test set need ? \n",
    "            split='train',\n",
    "            use_color=True, use_height=False,\n",
    "            overfit=True,\n",
    "            data_path='datasets/',\n",
    "            detect_intermediate=True,#? \n",
    "            use_multiview=False, #? \n",
    "            butd=False,\n",
    "            butd_gt=False,\n",
    "            butd_cls=True,\n",
    "            augment_det=False\n",
    "        )\n",
    "\n",
    "length = len(train_dataset.annos)\n",
    "for idx in range(length):\n",
    "    data = train_dataset.__getitem__(idx)\n",
    "    if len(data['utterances'].split('.'))>4:\n",
    "        break"
   ]
  },
  {
   "cell_type": "code",
   "execution_count": 5,
   "metadata": {},
   "outputs": [],
   "source": [
    "# prompt_demo_idx = 1280 \n",
    "# train_dataset.__getitem__(prompt_demo_idx)['utterances']\n",
    "# get_attr(data)\n",
    "# print_attr_shape(data)\n",
    "# print(f\" box num : {(data['box_label_mask']==1).sum()}\")\n",
    "# print(f\" label number :  {len(data['utterances'].split('.'))}\")\n"
   ]
  },
  {
   "cell_type": "code",
   "execution_count": 8,
   "metadata": {},
   "outputs": [
    {
     "name": "stdout",
     "output_type": "stream",
     "text": [
      "Find 4364 in ARKitScene dataset!\n"
     ]
    }
   ],
   "source": [
    "DATASET_CONFIG = ScannetDatasetConfig()\n",
    "\n",
    "point_num = 50000\n",
    "\n",
    "TRAIN_DATASET_WK = ARKitSceneDataset('train', num_points=point_num,\n",
    "                                        augment=True,\n",
    "                                        start_proportion=0.0,\n",
    "                                        end_proportion=1.0,data_root='datasets/ARKitScenes')\n",
    "\n",
    "\n",
    "\n",
    "# TEST_DATASET_ARKIT = ARKitSceneDataset('valid', num_points=point_num,\n",
    "#                                             augment=False,\n",
    "#                                             start_proportion=0.0,\n",
    "#                                             end_proportion=1.0,)\n",
    "\n"
   ]
  },
  {
   "cell_type": "code",
   "execution_count": 12,
   "metadata": {},
   "outputs": [
    {
     "name": "stderr",
     "output_type": "stream",
     "text": [
      "2022-10-19 10:18:26.269 | WARNING  | __main__:<module>:7 - ['scan_ids', 'point_clouds', 'ema_point_clouds', 'flip_x_axis', 'flip_y_axis', 'rot_mat', 'scale', 'all_bboxes', 'all_bbox_label_mask', 'all_class_ids', 'is_view_dep', 'is_hard', 'is_unique', 'num_gt_boxes', 'supervised_mask']\n",
      "2022-10-19 10:18:26.275 | INFO     | __main__:print_attr_shape:8 - scan_ids : 40753679\n",
      "2022-10-19 10:18:26.276 | INFO     | __main__:print_attr_shape:14 - point_clouds : (50000, 6)\n",
      "2022-10-19 10:18:26.276 | INFO     | __main__:print_attr_shape:14 - ema_point_clouds : (50000, 6)\n",
      "2022-10-19 10:18:26.277 | INFO     | __main__:print_attr_shape:14 - flip_x_axis : ()\n",
      "2022-10-19 10:18:26.278 | INFO     | __main__:print_attr_shape:14 - flip_y_axis : ()\n",
      "2022-10-19 10:18:26.278 | INFO     | __main__:print_attr_shape:14 - rot_mat : (3, 3)\n",
      "2022-10-19 10:18:26.278 | INFO     | __main__:print_attr_shape:14 - scale : ()\n",
      "2022-10-19 10:18:26.279 | INFO     | __main__:print_attr_shape:14 - all_bboxes : (64, 6)\n",
      "2022-10-19 10:18:26.279 | INFO     | __main__:print_attr_shape:14 - all_bbox_label_mask : (64,)\n",
      "2022-10-19 10:18:26.280 | INFO     | __main__:print_attr_shape:14 - all_class_ids : (64,)\n",
      "2022-10-19 10:18:26.281 | INFO     | __main__:print_attr_shape:10 - is_view_dep : False\n",
      "2022-10-19 10:18:26.281 | INFO     | __main__:print_attr_shape:10 - is_hard : False\n",
      "2022-10-19 10:18:26.282 | INFO     | __main__:print_attr_shape:10 - is_unique : False\n",
      "2022-10-19 10:18:26.282 | INFO     | __main__:print_attr_shape:14 - num_gt_boxes : (256,)\n",
      "2022-10-19 10:18:26.282 | INFO     | __main__:print_attr_shape:14 - supervised_mask : ()\n"
     ]
    },
    {
     "name": "stdout",
     "output_type": "stream",
     "text": [
      "(72727, 6)\n"
     ]
    }
   ],
   "source": [
    "\n",
    "#? vertex_normals \n",
    "#? heading_class_label \n",
    "#? heading_residual_label \n",
    "#? num_gt_boxes \n",
    "demo = TRAIN_DATASET_WK.__getitem__(0)\n",
    "\n",
    "logger.warning(get_attr(demo))\n",
    "print_attr_shape(demo)\n",
    "\n",
    "#* for test \n",
    "# demo_test = TEST_DATASET_ARKIT.__getitem__(0)\n",
    "# logger.warning(get_attr(demo_test))\n",
    "# logger.info(\"================================================================================\")\n",
    "# print_attr_shape(demo_test)\n"
   ]
  },
  {
   "cell_type": "code",
   "execution_count": 15,
   "metadata": {},
   "outputs": [],
   "source": [
    "\n",
    "\n",
    "\n",
    "\n",
    "\n",
    "def save_(data):\n",
    "    FLAG = \"debug\"  #* for teacher or student \n",
    "    make_dirs(osp.join(debug_path,data['scan_ids']))\n",
    "\n",
    "    write_pc_as_ply(\n",
    "                data['point_clouds'],\n",
    "                os.path.join(debug_path,data['scan_ids'], '%s_gt_%s.ply'%(data['scan_ids'],FLAG))\n",
    "            )\n",
    "\n",
    "    #* open3d  format bounding box \n",
    "    np.savetxt(os.path.join(debug_path, data['scan_ids'],'%s_box_%s.txt'%(data['scan_ids'],FLAG)),\n",
    "            data['all_bboxes'][data['all_bbox_label_mask']],fmt='%s')\n",
    "\n",
    "\n",
    "\n",
    "debug_path = \"logs/debug\"\n",
    "make_dirs(debug_path)\n",
    "save_(demo)\n",
    "\n"
   ]
  },
  {
   "cell_type": "code",
   "execution_count": 3,
   "metadata": {},
   "outputs": [],
   "source": [
    "\n",
    "\n"
   ]
  },
  {
   "cell_type": "code",
   "execution_count": 7,
   "metadata": {},
   "outputs": [],
   "source": [
    "\n",
    "\n",
    "\n",
    "\n",
    "\n",
    "def is_exists(path):\n",
    "    return osp.exists(path)\n",
    "\n",
    "def get_new_path(data_root,scene_name):\n",
    "    return osp.join(data_root,scene_name,f'{scene_name}_offline_prepared_data_new')\n",
    "\n",
    "\n",
    "\n",
    "def delete_new_dir():\n",
    "    for scene_name in os.listdir(data_path):\n",
    "        # print(get_file(data_path,scene_name))\n",
    "        new_path = get_new_path(data_path,scene_name)\n",
    "        \n",
    "        print(new_path)\n",
    "        # print(os.listdir(new_path))\n",
    "        if is_exists(new_path):\n",
    "            shutil.rmtree(new_path)\n",
    "\n",
    "\n",
    "\n",
    "def copyBox2NewDir(data_dir,scene_name):\n",
    "    src_file = osp.join(data_dir,f'{scene_name}_offline_prepared_data',f\"{scene_name}_bbox.npy\")\n",
    "    if osp.exists(src_file):\n",
    "        shutil.copy(src_file,osp.join(data_dir,f'{scene_name}_offline_prepared_data_new'))\n",
    "    \n",
    "    \n",
    "BASE_DIR=\"datasets/ARKitScenes\"\n",
    "split= \"train\"\n",
    "\n",
    "if split== \"train\":\n",
    "    data_path = os.path.join(BASE_DIR, 'dataset', \"3dod/Training\")\n",
    "else :\n",
    "    data_path = os.path.join(BASE_DIR, 'dataset', \"3dod/Validation\")\n",
    "\n",
    "scan_ids = open(osp.join(BASE_DIR,'dataset',f\"{split}_filtered.txt\")).read().strip().split(\"\\n\")\n",
    "\n",
    "for scene_name in scan_ids:\n",
    "    copyBox2NewDir(osp.join(data_path,scene_name),scene_name)\n",
    "\n",
    "    \n",
    "    \n",
    "    "
   ]
  }
 ],
 "metadata": {
  "kernelspec": {
   "display_name": "Python 3.7.12 ('cerberus2')",
   "language": "python",
   "name": "python3"
  },
  "language_info": {
   "codemirror_mode": {
    "name": "ipython",
    "version": 3
   },
   "file_extension": ".py",
   "mimetype": "text/x-python",
   "name": "python",
   "nbconvert_exporter": "python",
   "pygments_lexer": "ipython3",
   "version": "3.7.12"
  },
  "orig_nbformat": 4,
  "vscode": {
   "interpreter": {
    "hash": "8c7eafccb8f457aa8ce756ee28bedbf2f0acb240aef93477faad38317e939d03"
   }
  }
 },
 "nbformat": 4,
 "nbformat_minor": 2
}
