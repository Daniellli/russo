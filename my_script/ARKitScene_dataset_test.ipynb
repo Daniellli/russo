{
 "cells": [
  {
   "cell_type": "code",
   "execution_count": 1,
   "metadata": {},
   "outputs": [
    {
     "name": "stdout",
     "output_type": "stream",
     "text": [
      "Jupyter environment detected. Enabling Open3D WebVisualizer.\n",
      "[Open3D INFO] WebRTC GUI backend enabled.\n",
      "[Open3D INFO] WebRTCWindowSystem: HTTP handshake server disabled.\n"
     ]
    }
   ],
   "source": [
    "import os \n",
    "import os.path as osp\n",
    "\n",
    "os.chdir(\"/home/DISCOVER_summer2022/xusc/exp/butd_detr\")\n",
    "os.getcwd()\n",
    "import numpy as np \n",
    "import sys\n",
    "from src.arkitscenes_dataset import ARKitSceneDataset\n",
    "from loguru import logger\n",
    "from my_script.pc_utils import *\n",
    "from my_script.utils import *\n",
    "\n",
    "\n",
    "\n",
    "def save_(data,scene_name,save_root,has_color= True,flag = \"debug\"):\n",
    "      #* for teacher or student \n",
    "      \n",
    "    make_dirs(osp.join(save_root,scene_name))\n",
    "\n",
    "    if has_color:\n",
    "        write_pc_as_ply(\n",
    "                    data['point_clouds'],\n",
    "                    os.path.join(save_root,scene_name, '%s_gt_%s.ply'%(scene_name,flag))\n",
    "                )\n",
    "    else :\n",
    "        write_ply(\n",
    "            data['point_clouds'],\n",
    "            os.path.join(save_root,scene_name, '%s_gt_%s.ply'%(scene_name,flag))\n",
    "        )\n",
    "\n",
    "    #* open3d  format bounding box \n",
    "    np.savetxt(os.path.join(save_root, scene_name,'%s_box_%s.txt'%(scene_name,flag)),\n",
    "            data['all_bboxes'][data['all_bbox_label_mask']],fmt='%s')\n",
    "\n",
    "    "
   ]
  },
  {
   "cell_type": "markdown",
   "metadata": {},
   "source": [
    "## 2.  检查ARKitScene datasets  getitem 的数据格式"
   ]
  },
  {
   "cell_type": "code",
   "execution_count": 2,
   "metadata": {},
   "outputs": [
    {
     "name": "stderr",
     "output_type": "stream",
     "text": [
      "2022-10-22 00:30:44.201 | INFO     | my_script.utils:print_attr_shape:313 - box_label_mask : (132,)\n",
      "2022-10-22 00:30:44.202 | INFO     | my_script.utils:print_attr_shape:313 - center_label : (132, 3)\n",
      "2022-10-22 00:30:44.203 | INFO     | my_script.utils:print_attr_shape:313 - sem_cls_label : (132,)\n",
      "2022-10-22 00:30:44.204 | INFO     | my_script.utils:print_attr_shape:313 - size_gts : (132, 3)\n",
      "2022-10-22 00:30:44.204 | INFO     | my_script.utils:print_attr_shape:295 - scan_ids : 40753686\n",
      "2022-10-22 00:30:44.205 | INFO     | my_script.utils:print_attr_shape:313 - point_clouds : (50000, 6)\n",
      "2022-10-22 00:30:44.205 | INFO     | my_script.utils:print_attr_shape:295 - utterances : mug . table . guitar . toilet brush . night light . storage container . stand . rug . scanner . shampoo . soap . chair . not mentioned\n",
      "2022-10-22 00:30:44.205 | INFO     | my_script.utils:print_attr_shape:313 - tokens_positive : (132, 2)\n",
      "2022-10-22 00:30:44.206 | INFO     | my_script.utils:print_attr_shape:313 - positive_map : (132, 256)\n",
      "2022-10-22 00:30:44.206 | INFO     | my_script.utils:print_attr_shape:295 - relation : none\n",
      "2022-10-22 00:30:44.207 | INFO     | my_script.utils:print_attr_shape:295 - target_name : table\n",
      "2022-10-22 00:30:44.207 | INFO     | my_script.utils:print_attr_shape:299 - target_id : 0\n",
      "2022-10-22 00:30:44.207 | INFO     | my_script.utils:print_attr_shape:313 - all_bboxes : (132, 6)\n",
      "2022-10-22 00:30:44.209 | INFO     | my_script.utils:print_attr_shape:313 - all_bbox_label_mask : (132,)\n",
      "2022-10-22 00:30:44.209 | INFO     | my_script.utils:print_attr_shape:313 - all_class_ids : (132,)\n",
      "2022-10-22 00:30:44.210 | INFO     | my_script.utils:print_attr_shape:313 - distractor_ids : (32,)\n",
      "2022-10-22 00:30:44.210 | INFO     | my_script.utils:print_attr_shape:313 - anchor_ids : (32,)\n",
      "2022-10-22 00:30:44.211 | INFO     | my_script.utils:print_attr_shape:297 - is_view_dep : False\n",
      "2022-10-22 00:30:44.211 | INFO     | my_script.utils:print_attr_shape:297 - is_hard : False\n",
      "2022-10-22 00:30:44.212 | INFO     | my_script.utils:print_attr_shape:297 - is_unique : True\n",
      "2022-10-22 00:30:44.212 | INFO     | my_script.utils:print_attr_shape:313 - target_cid : ()\n",
      "2022-10-22 00:30:44.212 | INFO     | my_script.utils:print_attr_shape:313 - pc_before_aug : (50000, 6)\n",
      "2022-10-22 00:30:44.213 | INFO     | my_script.utils:print_attr_shape:301 - printing augmentations \n",
      "==========================================================================\n",
      "2022-10-22 00:30:44.213 | INFO     | my_script.utils:print_attr_shape:305 - yz_flip : True\n",
      "2022-10-22 00:30:44.214 | INFO     | my_script.utils:print_attr_shape:305 - xz_flip : True\n",
      "2022-10-22 00:30:44.214 | INFO     | my_script.utils:print_attr_shape:307 - theta_z : 88.38278717795234\n",
      "2022-10-22 00:30:44.214 | INFO     | my_script.utils:print_attr_shape:307 - theta_x : 1.1401941056454197\n",
      "2022-10-22 00:30:44.215 | INFO     | my_script.utils:print_attr_shape:307 - theta_y : 2.1340675723133233\n",
      "2022-10-22 00:30:44.215 | INFO     | my_script.utils:print_attr_shape:309 - noise : (50000, 3)\n",
      "2022-10-22 00:30:44.216 | INFO     | my_script.utils:print_attr_shape:309 - shift : (1, 3)\n",
      "2022-10-22 00:30:44.216 | INFO     | my_script.utils:print_attr_shape:307 - scale : 1.0111941608784987\n",
      "2022-10-22 00:30:44.217 | INFO     | my_script.utils:print_attr_shape:310 - \n",
      "==========================================================================\n",
      "2022-10-22 00:30:44.217 | INFO     | my_script.utils:print_attr_shape:313 - supervised_mask : ()\n"
     ]
    }
   ],
   "source": [
    "point_num = 50000\n",
    "arkit = ARKitSceneDataset('train', num_points=point_num,augment=True,data_root='datasets/arkitscenes')\n",
    "demo = arkit.__getitem__(1)\n",
    "demo_attr  = get_attr(demo)\n",
    "print_attr_shape(demo)\n"
   ]
  },
  {
   "cell_type": "code",
   "execution_count": null,
   "metadata": {},
   "outputs": [],
   "source": []
  },
  {
   "cell_type": "markdown",
   "metadata": {},
   "source": [
    "# save for vis test "
   ]
  },
  {
   "cell_type": "code",
   "execution_count": 4,
   "metadata": {},
   "outputs": [
    {
     "name": "stderr",
     "output_type": "stream",
     "text": [
      "2022-10-21 10:57:13.813 | INFO     | src.arkitscenes_dataset_uncalibrated:__getitem__:185 - before delete ceil :(104513, 6)\n",
      "2022-10-21 10:57:13.821 | INFO     | src.arkitscenes_dataset_uncalibrated:__getitem__:192 - after  delete ceil :(83610, 6)\n",
      "2022-10-21 10:57:18.304 | INFO     | __main__:<module>:8 - data['scan_ids']:40753679\n",
      "2022-10-21 10:57:18.309 | INFO     | src.arkitscenes_dataset_uncalibrated:__getitem__:185 - before delete ceil :(97751, 6)\n",
      "2022-10-21 10:57:18.315 | INFO     | src.arkitscenes_dataset_uncalibrated:__getitem__:192 - after  delete ceil :(78200, 6)\n",
      "2022-10-21 10:57:22.795 | INFO     | __main__:<module>:8 - data['scan_ids']:40753686\n",
      "2022-10-21 10:57:22.820 | INFO     | src.arkitscenes_dataset_uncalibrated:__getitem__:185 - before delete ceil :(193440, 6)\n",
      "2022-10-21 10:57:22.831 | INFO     | src.arkitscenes_dataset_uncalibrated:__getitem__:192 - after  delete ceil :(154752, 6)\n",
      "2022-10-21 10:57:27.185 | INFO     | __main__:<module>:8 - data['scan_ids']:40776203\n",
      "2022-10-21 10:57:27.222 | INFO     | src.arkitscenes_dataset_uncalibrated:__getitem__:185 - before delete ceil :(147800, 6)\n",
      "2022-10-21 10:57:27.229 | INFO     | src.arkitscenes_dataset_uncalibrated:__getitem__:192 - after  delete ceil :(118240, 6)\n",
      "2022-10-21 10:57:31.654 | INFO     | __main__:<module>:8 - data['scan_ids']:40776204\n",
      "2022-10-21 10:57:31.689 | INFO     | src.arkitscenes_dataset_uncalibrated:__getitem__:185 - before delete ceil :(369198, 6)\n",
      "2022-10-21 10:57:31.705 | INFO     | src.arkitscenes_dataset_uncalibrated:__getitem__:192 - after  delete ceil :(295358, 6)\n",
      "2022-10-21 10:57:36.186 | INFO     | __main__:<module>:8 - data['scan_ids']:40777060\n",
      "2022-10-21 10:57:36.210 | INFO     | src.arkitscenes_dataset_uncalibrated:__getitem__:185 - before delete ceil :(374545, 6)\n",
      "2022-10-21 10:57:36.229 | INFO     | src.arkitscenes_dataset_uncalibrated:__getitem__:192 - after  delete ceil :(299636, 6)\n",
      "2022-10-21 10:57:40.568 | INFO     | __main__:<module>:8 - data['scan_ids']:40777063\n"
     ]
    }
   ],
   "source": [
    "\n",
    "# debug_path = \"logs/debug\"\n",
    "# make_dirs(debug_path)\n",
    "# for  idx, data in enumerate(arkit):\n",
    "#     save_(data,data['scan_ids'])\n",
    "#     logger.info(f\"data['scan_ids']:{data['scan_ids']}\")\n",
    "#     if idx ==5 :\n",
    "#         break\n"
   ]
  },
  {
   "cell_type": "code",
   "execution_count": null,
   "metadata": {},
   "outputs": [],
   "source": []
  },
  {
   "cell_type": "code",
   "execution_count": 7,
   "metadata": {},
   "outputs": [
    {
     "name": "stderr",
     "output_type": "stream",
     "text": [
      "2022-10-20 14:35:27.498 | INFO     | __main__:<module>:4 - demo['scan_ids']:40753679\n"
     ]
    }
   ],
   "source": []
  }
 ],
 "metadata": {
  "kernelspec": {
   "display_name": "Python 3.7.12 ('cerberus2')",
   "language": "python",
   "name": "python3"
  },
  "language_info": {
   "codemirror_mode": {
    "name": "ipython",
    "version": 3
   },
   "file_extension": ".py",
   "mimetype": "text/x-python",
   "name": "python",
   "nbconvert_exporter": "python",
   "pygments_lexer": "ipython3",
   "version": "3.7.12"
  },
  "orig_nbformat": 4,
  "vscode": {
   "interpreter": {
    "hash": "8c7eafccb8f457aa8ce756ee28bedbf2f0acb240aef93477faad38317e939d03"
   }
  }
 },
 "nbformat": 4,
 "nbformat_minor": 2
}
