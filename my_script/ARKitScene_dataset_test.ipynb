{
 "cells": [
  {
   "cell_type": "code",
   "execution_count": 2,
   "metadata": {},
   "outputs": [],
   "source": [
    "import os \n",
    "import os.path as osp\n",
    "\n",
    "os.chdir(\"/home/DISCOVER_summer2022/xusc/exp/butd_detr\")\n",
    "os.getcwd()\n",
    "import numpy as np \n",
    "import sys\n",
    "from src.labeled_arkitscenes_dataset import ARKitSceneDataset\n",
    "from loguru import logger\n",
    "from my_script.pc_utils import *\n",
    "from my_script.utils import *\n",
    "\n",
    "\n",
    "\n",
    "def save_(data,scene_name,save_root,has_color= True,flag = \"debug\"):\n",
    "      #* for teacher or student \n",
    "      \n",
    "    make_dirs(osp.join(save_root,scene_name))\n",
    "\n",
    "    if has_color:\n",
    "        write_pc_as_ply(\n",
    "                    data['point_clouds'],\n",
    "                    os.path.join(save_root,scene_name, '%s_gt_%s.ply'%(scene_name,flag))\n",
    "                )\n",
    "    else :\n",
    "        write_ply(\n",
    "            data['point_clouds'],\n",
    "            os.path.join(save_root,scene_name, '%s_gt_%s.ply'%(scene_name,flag))\n",
    "        )\n",
    "\n",
    "    #* open3d  format bounding box \n",
    "    np.savetxt(os.path.join(save_root, scene_name,'%s_box_%s.txt'%(scene_name,flag)),\n",
    "            data['all_bboxes'][data['all_bbox_label_mask']],fmt='%s')\n",
    "\n",
    "    "
   ]
  },
  {
   "cell_type": "markdown",
   "metadata": {},
   "source": [
    "## 2.  检查ARKitScene datasets  getitem 的数据格式"
   ]
  },
  {
   "cell_type": "code",
   "execution_count": 3,
   "metadata": {},
   "outputs": [
    {
     "name": "stderr",
     "output_type": "stream",
     "text": [
      "2022-10-22 20:07:58.231 | INFO     | src.labeled_arkitscenes_dataset:__init__:214 - split train : 4361 loaded\n",
      "2022-10-22 20:07:59.755 | INFO     | src.labeled_arkitscenes_dataset:__init__:214 - split valid : 488 loaded\n",
      "2022-10-22 20:07:59.757 | INFO     | src.labeled_arkitscenes_dataset:__init__:216 -  total length  : 4849 loaded\n",
      "2022-10-22 20:07:59.839 | INFO     | src.labeled_arkitscenes_dataset:__init__:222 - ARKitSceneDataset : 4849 sample loaded, scene_name number : 4849 \n",
      "2022-10-22 20:07:59.983 | INFO     | my_script.utils:print_attr_shape:313 - box_label_mask : (132,)\n",
      "2022-10-22 20:07:59.989 | INFO     | my_script.utils:print_attr_shape:313 - center_label : (132, 3)\n",
      "2022-10-22 20:07:59.990 | INFO     | my_script.utils:print_attr_shape:313 - sem_cls_label : (132,)\n",
      "2022-10-22 20:07:59.991 | INFO     | my_script.utils:print_attr_shape:313 - size_gts : (132, 3)\n",
      "2022-10-22 20:07:59.991 | INFO     | my_script.utils:print_attr_shape:295 - scan_ids : 40753686\n",
      "2022-10-22 20:07:59.992 | INFO     | my_script.utils:print_attr_shape:313 - point_clouds : (50000, 6)\n",
      "2022-10-22 20:07:59.993 | INFO     | my_script.utils:print_attr_shape:295 - utterances : cable . fire hose . film light . dumbell . lotion . bathroom counter . chair . lunch box . plunger . mop . table . picture . not mentioned\n",
      "2022-10-22 20:07:59.993 | INFO     | my_script.utils:print_attr_shape:313 - tokens_positive : (132, 2)\n",
      "2022-10-22 20:07:59.994 | INFO     | my_script.utils:print_attr_shape:313 - positive_map : (132, 256)\n",
      "2022-10-22 20:07:59.995 | INFO     | my_script.utils:print_attr_shape:295 - relation : none\n",
      "2022-10-22 20:07:59.996 | INFO     | my_script.utils:print_attr_shape:295 - target_name : table\n",
      "2022-10-22 20:07:59.996 | INFO     | my_script.utils:print_attr_shape:299 - target_id : 0\n",
      "2022-10-22 20:07:59.997 | INFO     | my_script.utils:print_attr_shape:313 - all_bboxes : (132, 6)\n",
      "2022-10-22 20:07:59.998 | INFO     | my_script.utils:print_attr_shape:313 - all_bbox_label_mask : (132,)\n",
      "2022-10-22 20:07:59.998 | INFO     | my_script.utils:print_attr_shape:313 - all_class_ids : (132,)\n",
      "2022-10-22 20:07:59.999 | INFO     | my_script.utils:print_attr_shape:313 - all_detected_boxes : (132, 6)\n",
      "2022-10-22 20:08:00.000 | INFO     | my_script.utils:print_attr_shape:313 - all_detected_bbox_label_mask : (132,)\n",
      "2022-10-22 20:08:00.001 | INFO     | my_script.utils:print_attr_shape:313 - all_detected_class_ids : (132,)\n",
      "2022-10-22 20:08:00.001 | INFO     | my_script.utils:print_attr_shape:313 - distractor_ids : (32,)\n",
      "2022-10-22 20:08:00.002 | INFO     | my_script.utils:print_attr_shape:313 - anchor_ids : (32,)\n",
      "2022-10-22 20:08:00.003 | INFO     | my_script.utils:print_attr_shape:297 - is_view_dep : False\n",
      "2022-10-22 20:08:00.003 | INFO     | my_script.utils:print_attr_shape:297 - is_hard : False\n",
      "2022-10-22 20:08:00.004 | INFO     | my_script.utils:print_attr_shape:297 - is_unique : True\n",
      "2022-10-22 20:08:00.005 | INFO     | my_script.utils:print_attr_shape:313 - target_cid : ()\n",
      "2022-10-22 20:08:00.005 | INFO     | my_script.utils:print_attr_shape:313 - pc_before_aug : (50000, 6)\n",
      "2022-10-22 20:08:00.006 | INFO     | my_script.utils:print_attr_shape:301 - printing augmentations \n",
      "==========================================================================\n",
      "2022-10-22 20:08:00.007 | INFO     | my_script.utils:print_attr_shape:305 - yz_flip : False\n",
      "2022-10-22 20:08:00.008 | INFO     | my_script.utils:print_attr_shape:305 - xz_flip : False\n",
      "2022-10-22 20:08:00.009 | INFO     | my_script.utils:print_attr_shape:307 - theta_z : 266.15493101936653\n",
      "2022-10-22 20:08:00.010 | INFO     | my_script.utils:print_attr_shape:307 - theta_x : 1.9295185772248136\n",
      "2022-10-22 20:08:00.010 | INFO     | my_script.utils:print_attr_shape:307 - theta_y : -2.4818059773369665\n",
      "2022-10-22 20:08:00.011 | INFO     | my_script.utils:print_attr_shape:309 - noise : (50000, 3)\n",
      "2022-10-22 20:08:00.012 | INFO     | my_script.utils:print_attr_shape:309 - shift : (1, 3)\n",
      "2022-10-22 20:08:00.013 | INFO     | my_script.utils:print_attr_shape:307 - scale : 0.982416581067999\n",
      "2022-10-22 20:08:00.013 | INFO     | my_script.utils:print_attr_shape:310 - \n",
      "==========================================================================\n",
      "2022-10-22 20:08:00.014 | INFO     | my_script.utils:print_attr_shape:313 - supervised_mask : ()\n"
     ]
    }
   ],
   "source": [
    "point_num = 50000\n",
    "arkit = ARKitSceneDataset( num_points=point_num,augment=True,data_root='datasets/arkitscenes')\n",
    "demo = arkit.__getitem__(1)\n",
    "demo_attr  = get_attr(demo)\n",
    "print_attr_shape(demo)\n"
   ]
  },
  {
   "cell_type": "code",
   "execution_count": 4,
   "metadata": {},
   "outputs": [
    {
     "name": "stderr",
     "output_type": "stream",
     "text": [
      "100%|██████████| 4849/4849 [12:16<00:00,  6.59it/s]\n"
     ]
    }
   ],
   "source": [
    "from tqdm import tqdm\n",
    "tgt_num = []\n",
    "for idx in tqdm(range(len(arkit))):\n",
    "\n",
    "    example =  arkit.__getitem__(idx)\n",
    "    target_num = example['box_label_mask'].astype(np.int64).sum()\n",
    "    tgt_num.append(target_num)\n",
    "    # logger.info(f\"target number == {target_num}\")\n",
    "    "
   ]
  },
  {
   "cell_type": "code",
   "execution_count": 8,
   "metadata": {},
   "outputs": [
    {
     "ename": "IndexError",
     "evalue": "list index out of range",
     "output_type": "error",
     "traceback": [
      "\u001b[0;31m---------------------------------------------------------------------------\u001b[0m",
      "\u001b[0;31mIndexError\u001b[0m                                Traceback (most recent call last)",
      "\u001b[0;32m/tmp/ipykernel_3397453/3760009946.py\u001b[0m in \u001b[0;36m<module>\u001b[0;34m\u001b[0m\n\u001b[1;32m      3\u001b[0m \u001b[0;34m\u001b[0m\u001b[0m\n\u001b[1;32m      4\u001b[0m \u001b[0;34m\u001b[0m\u001b[0m\n\u001b[0;32m----> 5\u001b[0;31m \u001b[0markit\u001b[0m\u001b[0;34m.\u001b[0m\u001b[0m__getitem__\u001b[0m\u001b[0;34m(\u001b[0m\u001b[0merror_idx\u001b[0m\u001b[0;34m)\u001b[0m\u001b[0;34m\u001b[0m\u001b[0;34m\u001b[0m\u001b[0m\n\u001b[0m\u001b[1;32m      6\u001b[0m \u001b[0;34m\u001b[0m\u001b[0m\n",
      "\u001b[0;32m~/exp/butd_detr/src/labeled_arkitscenes_dataset.py\u001b[0m in \u001b[0;36m__getitem__\u001b[0;34m(self, idx, **kwargs)\u001b[0m\n\u001b[1;32m    712\u001b[0m         \u001b[0;31m#* sem_cls_label 没有用!\u001b[0m\u001b[0;34m\u001b[0m\u001b[0;34m\u001b[0m\u001b[0;34m\u001b[0m\u001b[0m\n\u001b[1;32m    713\u001b[0m         ret_dict = {\n\u001b[0;32m--> 714\u001b[0;31m             \u001b[0;34m'box_label_mask'\u001b[0m\u001b[0;34m:\u001b[0m \u001b[0mbox_label_mask\u001b[0m\u001b[0;34m.\u001b[0m\u001b[0mastype\u001b[0m\u001b[0;34m(\u001b[0m\u001b[0mnp\u001b[0m\u001b[0;34m.\u001b[0m\u001b[0mfloat32\u001b[0m\u001b[0;34m)\u001b[0m\u001b[0;34m,\u001b[0m\u001b[0;34m\u001b[0m\u001b[0;34m\u001b[0m\u001b[0m\n\u001b[0m\u001b[1;32m    715\u001b[0m             \u001b[0;34m'center_label'\u001b[0m\u001b[0;34m:\u001b[0m \u001b[0mgt_bboxes\u001b[0m\u001b[0;34m[\u001b[0m\u001b[0;34m:\u001b[0m\u001b[0;34m,\u001b[0m \u001b[0;34m:\u001b[0m\u001b[0;36m3\u001b[0m\u001b[0;34m]\u001b[0m\u001b[0;34m.\u001b[0m\u001b[0mastype\u001b[0m\u001b[0;34m(\u001b[0m\u001b[0mnp\u001b[0m\u001b[0;34m.\u001b[0m\u001b[0mfloat32\u001b[0m\u001b[0;34m)\u001b[0m\u001b[0;34m,\u001b[0m\u001b[0;34m\u001b[0m\u001b[0;34m\u001b[0m\u001b[0m\n\u001b[1;32m    716\u001b[0m             \u001b[0;34m'sem_cls_label'\u001b[0m\u001b[0;34m:\u001b[0m \u001b[0mnp\u001b[0m\u001b[0;34m.\u001b[0m\u001b[0mzeros\u001b[0m\u001b[0;34m(\u001b[0m\u001b[0mMAX_NUM_OBJ\u001b[0m\u001b[0;34m)\u001b[0m\u001b[0;34m.\u001b[0m\u001b[0mastype\u001b[0m\u001b[0;34m(\u001b[0m\u001b[0mnp\u001b[0m\u001b[0;34m.\u001b[0m\u001b[0mint64\u001b[0m\u001b[0;34m)\u001b[0m\u001b[0;34m,\u001b[0m\u001b[0;34m\u001b[0m\u001b[0;34m\u001b[0m\u001b[0m\n",
      "\u001b[0;31mIndexError\u001b[0m: list index out of range"
     ]
    }
   ],
   "source": [
    "# arkit.__getitem__()\n",
    "error_idx  = 3069\n",
    "arkit.__getitem__(error_idx)\n",
    "\n"
   ]
  },
  {
   "cell_type": "code",
   "execution_count": 18,
   "metadata": {},
   "outputs": [
    {
     "data": {
      "text/plain": [
       "array([], dtype=int64)"
      ]
     },
     "execution_count": 18,
     "metadata": {},
     "output_type": "execute_result"
    }
   ],
   "source": [
    "# tgt_num[-1]\n",
    "# example['box_label_mask']\n",
    "a = np.array(tgt_num)\n",
    "a[a==0]"
   ]
  },
  {
   "cell_type": "markdown",
   "metadata": {},
   "source": [
    "# save for vis test "
   ]
  },
  {
   "cell_type": "code",
   "execution_count": 4,
   "metadata": {},
   "outputs": [
    {
     "name": "stderr",
     "output_type": "stream",
     "text": [
      "2022-10-21 10:57:13.813 | INFO     | src.arkitscenes_dataset_uncalibrated:__getitem__:185 - before delete ceil :(104513, 6)\n",
      "2022-10-21 10:57:13.821 | INFO     | src.arkitscenes_dataset_uncalibrated:__getitem__:192 - after  delete ceil :(83610, 6)\n",
      "2022-10-21 10:57:18.304 | INFO     | __main__:<module>:8 - data['scan_ids']:40753679\n",
      "2022-10-21 10:57:18.309 | INFO     | src.arkitscenes_dataset_uncalibrated:__getitem__:185 - before delete ceil :(97751, 6)\n",
      "2022-10-21 10:57:18.315 | INFO     | src.arkitscenes_dataset_uncalibrated:__getitem__:192 - after  delete ceil :(78200, 6)\n",
      "2022-10-21 10:57:22.795 | INFO     | __main__:<module>:8 - data['scan_ids']:40753686\n",
      "2022-10-21 10:57:22.820 | INFO     | src.arkitscenes_dataset_uncalibrated:__getitem__:185 - before delete ceil :(193440, 6)\n",
      "2022-10-21 10:57:22.831 | INFO     | src.arkitscenes_dataset_uncalibrated:__getitem__:192 - after  delete ceil :(154752, 6)\n",
      "2022-10-21 10:57:27.185 | INFO     | __main__:<module>:8 - data['scan_ids']:40776203\n",
      "2022-10-21 10:57:27.222 | INFO     | src.arkitscenes_dataset_uncalibrated:__getitem__:185 - before delete ceil :(147800, 6)\n",
      "2022-10-21 10:57:27.229 | INFO     | src.arkitscenes_dataset_uncalibrated:__getitem__:192 - after  delete ceil :(118240, 6)\n",
      "2022-10-21 10:57:31.654 | INFO     | __main__:<module>:8 - data['scan_ids']:40776204\n",
      "2022-10-21 10:57:31.689 | INFO     | src.arkitscenes_dataset_uncalibrated:__getitem__:185 - before delete ceil :(369198, 6)\n",
      "2022-10-21 10:57:31.705 | INFO     | src.arkitscenes_dataset_uncalibrated:__getitem__:192 - after  delete ceil :(295358, 6)\n",
      "2022-10-21 10:57:36.186 | INFO     | __main__:<module>:8 - data['scan_ids']:40777060\n",
      "2022-10-21 10:57:36.210 | INFO     | src.arkitscenes_dataset_uncalibrated:__getitem__:185 - before delete ceil :(374545, 6)\n",
      "2022-10-21 10:57:36.229 | INFO     | src.arkitscenes_dataset_uncalibrated:__getitem__:192 - after  delete ceil :(299636, 6)\n",
      "2022-10-21 10:57:40.568 | INFO     | __main__:<module>:8 - data['scan_ids']:40777063\n"
     ]
    }
   ],
   "source": [
    "\n",
    "# debug_path = \"logs/debug\"\n",
    "# make_dirs(debug_path)\n",
    "# for  idx, data in enumerate(arkit):\n",
    "#     save_(data,data['scan_ids'])\n",
    "#     logger.info(f\"data['scan_ids']:{data['scan_ids']}\")\n",
    "#     if idx ==5 :\n",
    "#         break\n"
   ]
  },
  {
   "cell_type": "code",
   "execution_count": null,
   "metadata": {},
   "outputs": [],
   "source": []
  },
  {
   "cell_type": "code",
   "execution_count": 7,
   "metadata": {},
   "outputs": [
    {
     "name": "stderr",
     "output_type": "stream",
     "text": [
      "2022-10-20 14:35:27.498 | INFO     | __main__:<module>:4 - demo['scan_ids']:40753679\n"
     ]
    }
   ],
   "source": []
  }
 ],
 "metadata": {
  "kernelspec": {
   "display_name": "Python 3.7.12 ('cerberus2')",
   "language": "python",
   "name": "python3"
  },
  "language_info": {
   "codemirror_mode": {
    "name": "ipython",
    "version": 3
   },
   "file_extension": ".py",
   "mimetype": "text/x-python",
   "name": "python",
   "nbconvert_exporter": "python",
   "pygments_lexer": "ipython3",
   "version": "3.7.13"
  },
  "orig_nbformat": 4,
  "vscode": {
   "interpreter": {
    "hash": "8c7eafccb8f457aa8ce756ee28bedbf2f0acb240aef93477faad38317e939d03"
   }
  }
 },
 "nbformat": 4,
 "nbformat_minor": 2
}
