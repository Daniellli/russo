{
 "cells": [
  {
   "cell_type": "code",
   "execution_count": 1,
   "metadata": {},
   "outputs": [
    {
     "data": {
      "text/plain": [
       "'/home/DISCOVER_summer2022/xusc/exp/butd_detr'"
      ]
     },
     "execution_count": 1,
     "metadata": {},
     "output_type": "execute_result"
    }
   ],
   "source": [
    "import os \n",
    "import os.path as osp\n",
    "os.chdir(osp.dirname(os.getcwd()))\n",
    "os.getcwd()"
   ]
  },
  {
   "cell_type": "code",
   "execution_count": 2,
   "metadata": {},
   "outputs": [
    {
     "name": "stdout",
     "output_type": "stream",
     "text": [
      "Jupyter environment detected. Enabling Open3D WebVisualizer.\n",
      "[Open3D INFO] WebRTC GUI backend enabled.\n",
      "[Open3D INFO] WebRTCWindowSystem: HTTP handshake server disabled.\n"
     ]
    },
    {
     "name": "stderr",
     "output_type": "stream",
     "text": [
      "WARNING - 2022-10-21 14:18:32,702 - collision - No FCL -- collision checking will not work\n",
      "WARNING - 2022-10-21 14:18:32,828 - svg_io - SVG path loading unavailable!\n"
     ]
    }
   ],
   "source": [
    "from loguru import logger\n",
    "from my_script.pc_utils import *\n",
    "from my_script.utils import *\n",
    "from src.joint_det_dataset import Joint3DDataset"
   ]
  },
  {
   "cell_type": "code",
   "execution_count": 10,
   "metadata": {},
   "outputs": [
    {
     "name": "stdout",
     "output_type": "stream",
     "text": [
      "Loading train files, take a breath!\n"
     ]
    }
   ],
   "source": [
    "train_dataset = Joint3DDataset(\n",
    "            # dataset_dict={'sr3d':1,'scannet':10},\n",
    "            dataset_dict={'scannet':10},\n",
    "            test_dataset='sr3d', #? only test set need ? \n",
    "            split='train',\n",
    "            use_color=True, use_height=False,\n",
    "            overfit=True,\n",
    "            data_path='datasets/',\n",
    "            detect_intermediate=True,#? \n",
    "            use_multiview=False, #? \n",
    "            butd=False,\n",
    "            butd_gt=False,\n",
    "            butd_cls=True,\n",
    "            augment_det=False\n",
    "        )"
   ]
  },
  {
   "cell_type": "code",
   "execution_count": 11,
   "metadata": {},
   "outputs": [],
   "source": [
    "length = len(train_dataset.annos)\n",
    "for idx in range(length):\n",
    "    data = train_dataset.__getitem__(idx)\n",
    "    if len(data['utterances'].split('.'))>4:\n",
    "        break\n",
    "    "
   ]
  },
  {
   "cell_type": "code",
   "execution_count": 12,
   "metadata": {},
   "outputs": [
    {
     "name": "stderr",
     "output_type": "stream",
     "text": [
      "2022-10-21 14:49:53.535 | INFO     | my_script.utils:print_attr_shape:301 - box_label_mask : (132,)\n",
      "2022-10-21 14:49:53.536 | INFO     | my_script.utils:print_attr_shape:301 - center_label : (132, 3)\n",
      "2022-10-21 14:49:53.536 | INFO     | my_script.utils:print_attr_shape:301 - sem_cls_label : (132,)\n",
      "2022-10-21 14:49:53.537 | INFO     | my_script.utils:print_attr_shape:301 - size_gts : (132, 3)\n",
      "2022-10-21 14:49:53.538 | INFO     | my_script.utils:print_attr_shape:295 - scan_ids : scene0191_00\n",
      "2022-10-21 14:49:53.538 | INFO     | my_script.utils:print_attr_shape:301 - point_clouds : (50000, 6)\n",
      "2022-10-21 14:49:53.539 | INFO     | my_script.utils:print_attr_shape:295 - utterances : cabinet . bed . chair . couch . table . door . window . bookshelf . picture . counter . desk . curtain . refrigerator . shower curtain . toilet . sink . bathtub . other furniture . not mentioned\n",
      "2022-10-21 14:49:53.539 | INFO     | my_script.utils:print_attr_shape:301 - tokens_positive : (132, 2)\n",
      "2022-10-21 14:49:53.540 | INFO     | my_script.utils:print_attr_shape:301 - positive_map : (132, 256)\n",
      "2022-10-21 14:49:53.541 | INFO     | my_script.utils:print_attr_shape:295 - relation : none\n",
      "2022-10-21 14:49:53.541 | INFO     | my_script.utils:print_attr_shape:295 - target_name : door\n",
      "2022-10-21 14:49:53.542 | INFO     | my_script.utils:print_attr_shape:299 - target_id : 2\n",
      "2022-10-21 14:49:53.542 | INFO     | my_script.utils:print_attr_shape:301 - point_instance_label : (50000,)\n",
      "2022-10-21 14:49:53.543 | INFO     | my_script.utils:print_attr_shape:301 - all_bboxes : (132, 6)\n",
      "2022-10-21 14:49:53.543 | INFO     | my_script.utils:print_attr_shape:301 - all_bbox_label_mask : (132,)\n",
      "2022-10-21 14:49:53.544 | INFO     | my_script.utils:print_attr_shape:301 - all_class_ids : (132,)\n",
      "2022-10-21 14:49:53.545 | INFO     | my_script.utils:print_attr_shape:301 - distractor_ids : (32,)\n",
      "2022-10-21 14:49:53.545 | INFO     | my_script.utils:print_attr_shape:301 - anchor_ids : (32,)\n",
      "2022-10-21 14:49:53.546 | INFO     | my_script.utils:print_attr_shape:301 - all_detected_boxes : (132, 6)\n",
      "2022-10-21 14:49:53.547 | INFO     | my_script.utils:print_attr_shape:301 - all_detected_bbox_label_mask : (132,)\n",
      "2022-10-21 14:49:53.548 | INFO     | my_script.utils:print_attr_shape:301 - all_detected_class_ids : (132,)\n",
      "2022-10-21 14:49:53.548 | INFO     | my_script.utils:print_attr_shape:301 - all_detected_logits : (132, 485)\n",
      "2022-10-21 14:49:53.548 | INFO     | my_script.utils:print_attr_shape:297 - is_view_dep : False\n",
      "2022-10-21 14:49:53.549 | INFO     | my_script.utils:print_attr_shape:297 - is_hard : False\n",
      "2022-10-21 14:49:53.550 | INFO     | my_script.utils:print_attr_shape:297 - is_unique : True\n",
      "2022-10-21 14:49:53.550 | INFO     | my_script.utils:print_attr_shape:301 - target_cid : ()\n",
      "2022-10-21 14:49:53.551 | INFO     | my_script.utils:print_attr_shape:301 - supervised_mask : ()\n"
     ]
    },
    {
     "name": "stdout",
     "output_type": "stream",
     "text": [
      " box num : 7\n",
      " label number :  19\n"
     ]
    }
   ],
   "source": [
    "\n",
    "prompt_demo_idx = 128\n",
    "train_dataset.__getitem__(prompt_demo_idx)['utterances']\n",
    "get_attr(data)\n",
    "print_attr_shape(data)\n",
    "print(f\" box num : {(data['box_label_mask']==1).sum()}\")\n",
    "print(f\" label number :  {len(data['utterances'].split('.'))}\")\n",
    "#todo : label 如何映射的? \n",
    "#todo :  utterances : 如何设计的 ?  如何设计positive and negtive\n",
    "#* \n"
   ]
  },
  {
   "cell_type": "code",
   "execution_count": 16,
   "metadata": {},
   "outputs": [
    {
     "name": "stderr",
     "output_type": "stream",
     "text": [
      "2022-10-21 14:52:20.817 | INFO     | __main__:<module>:24 - cabinet . bed . chair . couch . table . door . window . bookshelf . picture . counter . desk . curtain . refrigerator . shower curtain . toilet . sink . bathtub . other furniture . not mentioned\n",
      "2022-10-21 14:52:20.819 | INFO     | __main__:<module>:26 -  utterances length : 19\n",
      "2022-10-21 14:52:20.820 | INFO     | __main__:<module>:31 -  box  number in the scene  : 17\n",
      "2022-10-21 14:52:20.821 | INFO     | __main__:<module>:33 - referred tagret box number  in the scene  : 7\n",
      "2022-10-21 14:52:20.822 | INFO     | __main__:<module>:36 - referred target object sem_cls_label: [ 5  4  6 17  2  6  6]\n",
      "2022-10-21 14:52:20.824 | INFO     | __main__:<module>:46 -   5 object in the utterance is referred \n",
      "2022-10-21 14:52:20.825 | INFO     | __main__:<module>:47 - all text token referred as postive token  ['door', 'table', 'window', 'other furniture', 'chair', 'window', 'window']\n",
      "2022-10-21 14:52:20.825 | INFO     | __main__:<module>:48 -  7 referred as postive token\n",
      "2022-10-21 14:52:20.826 | INFO     | __main__:<module>:52 - data['distractor_ids'] : [-1 -1 -1 -1 -1 -1 -1 -1 -1 -1 -1 -1 -1 -1 -1 -1 -1 -1 -1 -1 -1 -1 -1 -1\n",
      " -1 -1 -1 -1 -1 -1 -1 -1],length : 32\n",
      "2022-10-21 14:52:20.827 | INFO     | __main__:<module>:53 - ,data['anchor_ids'] : [-1 -1 -1 -1 -1 -1 -1 -1 -1 -1 -1 -1 -1 -1 -1 -1 -1 -1 -1 -1 -1 -1 -1 -1\n",
      " -1 -1 -1 -1 -1 -1 -1 -1],len : 32\n",
      "2022-10-21 14:52:20.828 | INFO     | __main__:<module>:54 - data['target_cid'] : 4.0\n"
     ]
    }
   ],
   "source": [
    "\n",
    "\n",
    "def get_caption(utterances):\n",
    "    caption = ' '.join(utterances.replace(',', ' ,').split())\n",
    "    caption = ' ' + caption + ' '\n",
    "\n",
    "    \n",
    "    return caption\n",
    "'''\n",
    "description: 根据tokens_positive 从utterances 取text token \n",
    "param {*} utterances\n",
    "param {*} tokens_positive\n",
    "return {*}\n",
    "'''\n",
    "def get_token(utterances,tokens_positive):\n",
    "\n",
    "    caption = get_caption(utterances)\n",
    "    all_text_token_from_utterance = []\n",
    "    for start,end in tokens_positive:\n",
    "        tmp = caption[start:end+1].strip()\n",
    "        all_text_token_from_utterance.append(tmp)\n",
    "        # print(tmp,end='\\t')\n",
    "    return all_text_token_from_utterance\n",
    "\n",
    "\n",
    "logger.info(data['utterances'])\n",
    "all_labels = data['utterances'].split('.')\n",
    "logger.info(f\" utterances length : {len(all_labels)}\")\n",
    "\n",
    "# all_labels\n",
    "#?  negtive label 为什么会有box 与之对应呢?    多出来的两个box 是什么?  应该是与negtive sample对应的... \n",
    "all_box = data['all_bboxes'][data['all_bbox_label_mask']]\n",
    "logger.info(f\" box  number in the scene  : {len(all_box)}\")\n",
    "all_target_box = data['center_label'][data['box_label_mask']==1]\n",
    "logger.info(f\"referred tagret box number  in the scene  : {all_target_box.shape[0]}\") \n",
    "\n",
    "\n",
    "logger.info(f\"referred target object sem_cls_label: {data['sem_cls_label'][data['box_label_mask']==1]}\")#* 这个没用吗? 为什么sem_cls_label 都是对应0 ? \n",
    "\n",
    "# logger.info(f\"data['positive_map'].shape {data['positive_map'].shape}\")#* 这个跟 language model 的输出有关\n",
    "all_text_token_from_potive_token = get_token(data['utterances'],data['tokens_positive'][data['box_label_mask']==1])\n",
    "\n",
    "text_from_utterance_appear_in_positive_token = []\n",
    "for label in all_labels:\n",
    "    if label.strip() in all_text_token_from_potive_token:\n",
    "    \n",
    "        text_from_utterance_appear_in_positive_token.append(label)\n",
    "logger.info(f\"  {len(text_from_utterance_appear_in_positive_token)} object in the utterance is referred \")\n",
    "logger.info(f\"all text token referred as postive token  {all_text_token_from_potive_token}\")\n",
    "logger.info(f\" {len(all_text_token_from_potive_token)} referred as postive token\")\n",
    "#* 用utterances 去找只能找到  10个, 而referred target有15个, 也就是说有5个重复的目标, \n",
    "\n",
    "\n",
    "logger.info(f\"data['distractor_ids'] : {data['distractor_ids']},length : {len(data['distractor_ids'])}\")\n",
    "logger.info(f\",data['anchor_ids'] : {data['anchor_ids']},len : {len( data['anchor_ids'])}\")\n",
    "logger.info(f\"data['target_cid'] : {data['target_cid']}\")\n",
    "\n",
    "\n",
    "\n",
    "\n",
    "\n",
    "\n"
   ]
  },
  {
   "cell_type": "code",
   "execution_count": 8,
   "metadata": {},
   "outputs": [
    {
     "data": {
      "text/plain": [
       "(17, 6)"
      ]
     },
     "execution_count": 8,
     "metadata": {},
     "output_type": "execute_result"
    }
   ],
   "source": [
    "data['all_bboxes'][data['all_bbox_label_mask']].shape"
   ]
  },
  {
   "cell_type": "code",
   "execution_count": 9,
   "metadata": {},
   "outputs": [
    {
     "data": {
      "text/plain": [
       "array([  0,   0,   4,   3,  62,  62,  14,  42,  50,   1,  14, 325,  46,\n",
       "        14,  46,   2,   7])"
      ]
     },
     "execution_count": 9,
     "metadata": {},
     "output_type": "execute_result"
    }
   ],
   "source": [
    "data['all_class_ids'][data['all_bbox_label_mask']]"
   ]
  },
  {
   "cell_type": "code",
   "execution_count": null,
   "metadata": {},
   "outputs": [],
   "source": []
  },
  {
   "cell_type": "code",
   "execution_count": null,
   "metadata": {},
   "outputs": [],
   "source": []
  }
 ],
 "metadata": {
  "kernelspec": {
   "display_name": "Python 3.7.12 ('cerberus2')",
   "language": "python",
   "name": "python3"
  },
  "language_info": {
   "codemirror_mode": {
    "name": "ipython",
    "version": 3
   },
   "file_extension": ".py",
   "mimetype": "text/x-python",
   "name": "python",
   "nbconvert_exporter": "python",
   "pygments_lexer": "ipython3",
   "version": "3.7.12"
  },
  "orig_nbformat": 4,
  "vscode": {
   "interpreter": {
    "hash": "8c7eafccb8f457aa8ce756ee28bedbf2f0acb240aef93477faad38317e939d03"
   }
  }
 },
 "nbformat": 4,
 "nbformat_minor": 2
}
