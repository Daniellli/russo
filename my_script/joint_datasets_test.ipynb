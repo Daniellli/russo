{
 "cells": [
  {
   "cell_type": "code",
   "execution_count": 1,
   "metadata": {},
   "outputs": [
    {
     "data": {
      "text/plain": [
       "'/home/DISCOVER_summer2022/xusc/exp/butd_detr'"
      ]
     },
     "execution_count": 1,
     "metadata": {},
     "output_type": "execute_result"
    }
   ],
   "source": [
    "import os \n",
    "import os.path as osp\n",
    "os.chdir(osp.dirname(os.getcwd()))\n",
    "os.getcwd()"
   ]
  },
  {
   "cell_type": "code",
   "execution_count": 2,
   "metadata": {},
   "outputs": [
    {
     "name": "stdout",
     "output_type": "stream",
     "text": [
      "Jupyter environment detected. Enabling Open3D WebVisualizer.\n",
      "[Open3D INFO] WebRTC GUI backend enabled.\n",
      "[Open3D INFO] WebRTCWindowSystem: HTTP handshake server disabled.\n"
     ]
    },
    {
     "name": "stderr",
     "output_type": "stream",
     "text": [
      "WARNING - 2022-10-23 15:59:58,097 - collision - No FCL -- collision checking will not work\n",
      "WARNING - 2022-10-23 15:59:58,203 - svg_io - SVG path loading unavailable!\n"
     ]
    }
   ],
   "source": [
    "from loguru import logger\n",
    "from my_script.pc_utils import *\n",
    "from my_script.utils import *\n",
    "from src.join_dataset import JointDataset\n",
    "\n",
    "from src.join_unlabeled_dataset import JointUnlabeledDataset\n",
    "from src.join_labeled_dataset import JointLabeledDataset\n",
    "\n",
    "\n"
   ]
  },
  {
   "cell_type": "code",
   "execution_count": 3,
   "metadata": {},
   "outputs": [
    {
     "name": "stdout",
     "output_type": "stream",
     "text": [
      "Loading train files, take a breath!\n"
     ]
    },
    {
     "name": "stderr",
     "output_type": "stream",
     "text": [
      "2022-10-23 15:57:57.852 | INFO     | src.join_dataset:load_annos:178 -  scannet : 128  annotations   loaded \n"
     ]
    }
   ],
   "source": [
    "train_dataset = JointDataset(\n",
    "            # dataset_dict={'sr3d':1,'scannet':10},\n",
    "            dataset_dict={'scannet':10},\n",
    "            test_dataset='sr3d', #? only test set need ? \n",
    "            split='train',\n",
    "            use_color=True, use_height=False,\n",
    "            overfit=True,\n",
    "            data_path='datasets/',\n",
    "            detect_intermediate=True,#? \n",
    "            use_multiview=False, #? \n",
    "            butd=False,\n",
    "            butd_gt=False,\n",
    "            butd_cls=True,\n",
    "            augment_det=False\n",
    "        )\n",
    "\n"
   ]
  },
  {
   "cell_type": "markdown",
   "metadata": {},
   "source": [
    "## unlabeled datasets"
   ]
  },
  {
   "cell_type": "code",
   "execution_count": 3,
   "metadata": {},
   "outputs": [
    {
     "name": "stdout",
     "output_type": "stream",
     "text": [
      "Loading train files, take a breath!\n"
     ]
    },
    {
     "name": "stderr",
     "output_type": "stream",
     "text": [
      "2022-10-23 15:54:38.576 | INFO     | src.join_unlabeled_dataset:load_annos:164 - 1199  annotations   loaded \n"
     ]
    }
   ],
   "source": [
    "train_dataset = JointUnlabeledDataset(\n",
    "            # dataset_dict={'sr3d':1,'scannet':10},\n",
    "            dataset_dict={'scannet':10},\n",
    "            test_dataset='sr3d', #? only test set need ? \n",
    "            split='train',\n",
    "            use_color=True, use_height=False,\n",
    "            overfit=True, #* debug \n",
    "            data_path='datasets/',\n",
    "            detect_intermediate=True,#? \n",
    "            use_multiview=False, #? \n",
    "            butd=False,\n",
    "            butd_gt=False,\n",
    "            butd_cls=True,\n",
    "            augment_det=False,\n",
    "        )"
   ]
  },
  {
   "cell_type": "markdown",
   "metadata": {},
   "source": [
    "## labeled datasets"
   ]
  },
  {
   "cell_type": "code",
   "execution_count": 3,
   "metadata": {},
   "outputs": [
    {
     "name": "stdout",
     "output_type": "stream",
     "text": [
      "Loading train files, take a breath!\n"
     ]
    },
    {
     "name": "stderr",
     "output_type": "stream",
     "text": [
      "2022-10-23 16:00:29.847 | INFO     | src.join_labeled_dataset:load_annos:165 - 1199  annotations   loaded \n"
     ]
    }
   ],
   "source": [
    "\n",
    "train_dataset = JointLabeledDataset(\n",
    "            # dataset_dict={'sr3d':1,'scannet':10},\n",
    "            dataset_dict={'scannet':10},\n",
    "            test_dataset='sr3d', #? only test set need ? \n",
    "            split='train',\n",
    "            use_color=True, use_height=False,\n",
    "            overfit=True,\n",
    "            data_path='datasets/',\n",
    "            detect_intermediate=True,#? \n",
    "            use_multiview=False, #? \n",
    "            butd=False,\n",
    "            butd_gt=False,\n",
    "            butd_cls=True,\n",
    "            augment_det=False\n",
    "        )"
   ]
  },
  {
   "cell_type": "code",
   "execution_count": 4,
   "metadata": {},
   "outputs": [
    {
     "name": "stderr",
     "output_type": "stream",
     "text": [
      "2022-10-23 16:00:34.954 | INFO     | __main__:<module>:58 - data['scan_ids']:scene0191_00\n",
      "2022-10-23 16:00:39.460 | INFO     | __main__:<module>:58 - data['scan_ids']:scene0191_01\n",
      "2022-10-23 16:00:43.848 | INFO     | __main__:<module>:58 - data['scan_ids']:scene0191_02\n",
      "2022-10-23 16:00:48.278 | INFO     | __main__:<module>:58 - data['scan_ids']:scene0119_00\n"
     ]
    }
   ],
   "source": [
    "\n",
    "\n",
    "def save_(data,scene_name,save_root,has_color= True,flag = \"debug\"):\n",
    "      #* for teacher or student \n",
    "      \n",
    "    make_dirs(osp.join(save_root,scene_name))\n",
    "\n",
    "    if has_color:\n",
    "        write_pc_as_ply(\n",
    "                    data['point_clouds'],\n",
    "                    os.path.join(save_root,scene_name, '%s_gt_%s.ply'%(scene_name,flag))\n",
    "                )\n",
    "    else :\n",
    "        write_ply(\n",
    "            data['point_clouds'],\n",
    "            os.path.join(save_root,scene_name, '%s_gt_%s.ply'%(scene_name,flag))\n",
    "        )\n",
    "\n",
    "        \n",
    "\n",
    "    #* open3d  format bounding box \n",
    "    # np.savetxt(os.path.join(save_root, scene_name,'%s_box_%s.txt'%(scene_name,flag)),\n",
    "    #         data['all_bboxes'][data['all_bbox_label_mask']],fmt='%s')\n",
    "    np.savetxt(os.path.join(save_root, scene_name,'%s_box_%s.txt'%(scene_name,flag)),\n",
    "            data['all_detected_boxes'][data['all_detected_bbox_label_mask']],fmt='%s')\n",
    "\n",
    "\n",
    "def save_teacher(data,scene_name,save_root,has_color= True,flag = \"debug\"):\n",
    "      #* for teacher or student \n",
    "      \n",
    "    make_dirs(osp.join(save_root,scene_name))\n",
    "\n",
    "    if has_color:\n",
    "        write_pc_as_ply(\n",
    "                    data['pc_before_aug'],\n",
    "                    os.path.join(save_root,scene_name, '%s_gt_%s.ply'%(scene_name,flag))\n",
    "                )\n",
    "    else :\n",
    "        write_ply(\n",
    "            data['pc_before_aug'],\n",
    "            os.path.join(save_root,scene_name, '%s_gt_%s.ply'%(scene_name,flag))\n",
    "        )\n",
    "\n",
    "        \n",
    "\n",
    "    #* open3d  format bounding box \n",
    "    # np.savetxt(os.path.join(save_root, scene_name,'%s_box_%s.txt'%(scene_name,flag)),\n",
    "    #         data['teacher_box'][data['all_bbox_label_mask']],fmt='%s')\n",
    "    np.savetxt(os.path.join(save_root, scene_name,'%s_box_%s.txt'%(scene_name,flag)),\n",
    "            data['teacher_box'][data['all_detected_bbox_label_mask']],fmt='%s')\n",
    "\n",
    "\n",
    "\n",
    "\n",
    "debug_path = \"logs/debug\"\n",
    "make_dirs(debug_path)\n",
    "for  idx, data in enumerate(train_dataset):\n",
    "    save_(data,data['scan_ids'],debug_path,flag='student')\n",
    "    save_teacher(data,data['scan_ids'],debug_path,flag='teacher')\n",
    "    logger.info(f\"data['scan_ids']:{data['scan_ids']}\")\n",
    "    if idx ==3:\n",
    "        break\n"
   ]
  },
  {
   "cell_type": "code",
   "execution_count": 7,
   "metadata": {},
   "outputs": [
    {
     "name": "stderr",
     "output_type": "stream",
     "text": [
      "2022-10-22 21:11:17.569 | INFO     | my_script.utils:print_attr_shape:313 - box_label_mask : (132,)\n",
      "2022-10-22 21:11:17.573 | INFO     | my_script.utils:print_attr_shape:313 - center_label : (132, 3)\n",
      "2022-10-22 21:11:17.574 | INFO     | my_script.utils:print_attr_shape:313 - sem_cls_label : (132,)\n",
      "2022-10-22 21:11:17.574 | INFO     | my_script.utils:print_attr_shape:313 - size_gts : (132, 3)\n",
      "2022-10-22 21:11:17.575 | INFO     | my_script.utils:print_attr_shape:295 - scan_ids : scene0191_00\n",
      "2022-10-22 21:11:17.576 | INFO     | my_script.utils:print_attr_shape:313 - point_clouds : (50000, 6)\n",
      "2022-10-22 21:11:17.576 | INFO     | my_script.utils:print_attr_shape:295 - utterances : cabinet . bed . chair . couch . table . door . window . bookshelf . picture . counter . desk . curtain . refrigerator . shower curtain . toilet . sink . bathtub . other furniture . not mentioned\n",
      "2022-10-22 21:11:17.577 | INFO     | my_script.utils:print_attr_shape:313 - tokens_positive : (132, 2)\n",
      "2022-10-22 21:11:17.578 | INFO     | my_script.utils:print_attr_shape:313 - positive_map : (132, 256)\n",
      "2022-10-22 21:11:17.578 | INFO     | my_script.utils:print_attr_shape:295 - relation : none\n",
      "2022-10-22 21:11:17.579 | INFO     | my_script.utils:print_attr_shape:295 - target_name : door\n",
      "2022-10-22 21:11:17.579 | INFO     | my_script.utils:print_attr_shape:299 - target_id : 2\n",
      "2022-10-22 21:11:17.580 | INFO     | my_script.utils:print_attr_shape:313 - point_instance_label : (50000,)\n",
      "2022-10-22 21:11:17.580 | INFO     | my_script.utils:print_attr_shape:313 - all_bboxes : (132, 6)\n",
      "2022-10-22 21:11:17.581 | INFO     | my_script.utils:print_attr_shape:313 - all_bbox_label_mask : (132,)\n",
      "2022-10-22 21:11:17.581 | INFO     | my_script.utils:print_attr_shape:313 - all_class_ids : (132,)\n",
      "2022-10-22 21:11:17.582 | INFO     | my_script.utils:print_attr_shape:313 - distractor_ids : (32,)\n",
      "2022-10-22 21:11:17.583 | INFO     | my_script.utils:print_attr_shape:313 - anchor_ids : (32,)\n",
      "2022-10-22 21:11:17.583 | INFO     | my_script.utils:print_attr_shape:313 - all_detected_boxes : (132, 6)\n",
      "2022-10-22 21:11:17.584 | INFO     | my_script.utils:print_attr_shape:313 - all_detected_bbox_label_mask : (132,)\n",
      "2022-10-22 21:11:17.585 | INFO     | my_script.utils:print_attr_shape:313 - all_detected_class_ids : (132,)\n",
      "2022-10-22 21:11:17.585 | INFO     | my_script.utils:print_attr_shape:313 - all_detected_logits : (132, 485)\n",
      "2022-10-22 21:11:17.586 | INFO     | my_script.utils:print_attr_shape:297 - is_view_dep : False\n",
      "2022-10-22 21:11:17.586 | INFO     | my_script.utils:print_attr_shape:297 - is_hard : False\n",
      "2022-10-22 21:11:17.587 | INFO     | my_script.utils:print_attr_shape:297 - is_unique : True\n",
      "2022-10-22 21:11:17.588 | INFO     | my_script.utils:print_attr_shape:313 - target_cid : ()\n",
      "2022-10-22 21:11:17.588 | INFO     | my_script.utils:print_attr_shape:313 - pc_before_aug : (50000, 6)\n",
      "2022-10-22 21:11:17.589 | INFO     | my_script.utils:print_attr_shape:313 - teacher_box : (132, 6)\n",
      "2022-10-22 21:11:17.590 | INFO     | my_script.utils:print_attr_shape:301 - printing augmentations \n",
      "==========================================================================\n",
      "2022-10-22 21:11:17.590 | INFO     | my_script.utils:print_attr_shape:305 - yz_flip : False\n",
      "2022-10-22 21:11:17.591 | INFO     | my_script.utils:print_attr_shape:305 - xz_flip : True\n",
      "2022-10-22 21:11:17.591 | INFO     | my_script.utils:print_attr_shape:307 - theta_z : 177.6909305730772\n",
      "2022-10-22 21:11:17.592 | INFO     | my_script.utils:print_attr_shape:307 - theta_x : 0.48833926734267563\n",
      "2022-10-22 21:11:17.592 | INFO     | my_script.utils:print_attr_shape:307 - theta_y : 2.42906029017162\n",
      "2022-10-22 21:11:17.593 | INFO     | my_script.utils:print_attr_shape:309 - noise : (50000, 3)\n",
      "2022-10-22 21:11:17.594 | INFO     | my_script.utils:print_attr_shape:309 - shift : (1, 3)\n",
      "2022-10-22 21:11:17.594 | INFO     | my_script.utils:print_attr_shape:307 - scale : 0.992173755155621\n",
      "2022-10-22 21:11:17.595 | INFO     | my_script.utils:print_attr_shape:310 - \n",
      "==========================================================================\n",
      "2022-10-22 21:11:17.595 | INFO     | my_script.utils:print_attr_shape:313 - supervised_mask : ()\n",
      "2022-10-22 21:11:17.724 | INFO     | my_script.utils:print_attr_shape:313 - box_label_mask : (132,)\n",
      "2022-10-22 21:11:17.727 | INFO     | my_script.utils:print_attr_shape:313 - center_label : (132, 3)\n",
      "2022-10-22 21:11:17.728 | INFO     | my_script.utils:print_attr_shape:313 - sem_cls_label : (132,)\n",
      "2022-10-22 21:11:17.728 | INFO     | my_script.utils:print_attr_shape:313 - size_gts : (132, 3)\n",
      "2022-10-22 21:11:17.729 | INFO     | my_script.utils:print_attr_shape:295 - scan_ids : scene0191_01\n",
      "2022-10-22 21:11:17.730 | INFO     | my_script.utils:print_attr_shape:313 - point_clouds : (50000, 6)\n",
      "2022-10-22 21:11:17.731 | INFO     | my_script.utils:print_attr_shape:295 - utterances : cabinet . bed . chair . couch . table . door . window . bookshelf . picture . counter . desk . curtain . refrigerator . shower curtain . toilet . sink . bathtub . other furniture . not mentioned\n",
      "2022-10-22 21:11:17.731 | INFO     | my_script.utils:print_attr_shape:313 - tokens_positive : (132, 2)\n",
      "2022-10-22 21:11:17.732 | INFO     | my_script.utils:print_attr_shape:313 - positive_map : (132, 256)\n",
      "2022-10-22 21:11:17.733 | INFO     | my_script.utils:print_attr_shape:295 - relation : none\n",
      "2022-10-22 21:11:17.734 | INFO     | my_script.utils:print_attr_shape:295 - target_name : chair\n",
      "2022-10-22 21:11:17.734 | INFO     | my_script.utils:print_attr_shape:299 - target_id : 3\n",
      "2022-10-22 21:11:17.735 | INFO     | my_script.utils:print_attr_shape:313 - point_instance_label : (50000,)\n",
      "2022-10-22 21:11:17.736 | INFO     | my_script.utils:print_attr_shape:313 - all_bboxes : (132, 6)\n",
      "2022-10-22 21:11:17.737 | INFO     | my_script.utils:print_attr_shape:313 - all_bbox_label_mask : (132,)\n",
      "2022-10-22 21:11:17.738 | INFO     | my_script.utils:print_attr_shape:313 - all_class_ids : (132,)\n",
      "2022-10-22 21:11:17.738 | INFO     | my_script.utils:print_attr_shape:313 - distractor_ids : (32,)\n",
      "2022-10-22 21:11:17.739 | INFO     | my_script.utils:print_attr_shape:313 - anchor_ids : (32,)\n",
      "2022-10-22 21:11:17.740 | INFO     | my_script.utils:print_attr_shape:313 - all_detected_boxes : (132, 6)\n",
      "2022-10-22 21:11:17.741 | INFO     | my_script.utils:print_attr_shape:313 - all_detected_bbox_label_mask : (132,)\n",
      "2022-10-22 21:11:17.741 | INFO     | my_script.utils:print_attr_shape:313 - all_detected_class_ids : (132,)\n",
      "2022-10-22 21:11:17.742 | INFO     | my_script.utils:print_attr_shape:313 - all_detected_logits : (132, 485)\n",
      "2022-10-22 21:11:17.743 | INFO     | my_script.utils:print_attr_shape:297 - is_view_dep : False\n",
      "2022-10-22 21:11:17.744 | INFO     | my_script.utils:print_attr_shape:297 - is_hard : False\n",
      "2022-10-22 21:11:17.745 | INFO     | my_script.utils:print_attr_shape:297 - is_unique : True\n",
      "2022-10-22 21:11:17.746 | INFO     | my_script.utils:print_attr_shape:313 - target_cid : ()\n",
      "2022-10-22 21:11:17.746 | INFO     | my_script.utils:print_attr_shape:313 - pc_before_aug : (50000, 6)\n",
      "2022-10-22 21:11:17.747 | INFO     | my_script.utils:print_attr_shape:313 - teacher_box : (132, 6)\n",
      "2022-10-22 21:11:17.748 | INFO     | my_script.utils:print_attr_shape:301 - printing augmentations \n",
      "==========================================================================\n",
      "2022-10-22 21:11:17.749 | INFO     | my_script.utils:print_attr_shape:305 - yz_flip : False\n",
      "2022-10-22 21:11:17.749 | INFO     | my_script.utils:print_attr_shape:305 - xz_flip : False\n",
      "2022-10-22 21:11:17.750 | INFO     | my_script.utils:print_attr_shape:307 - theta_z : 269.59023054887115\n",
      "2022-10-22 21:11:17.751 | INFO     | my_script.utils:print_attr_shape:307 - theta_x : -0.6183644885149137\n",
      "2022-10-22 21:11:17.752 | INFO     | my_script.utils:print_attr_shape:307 - theta_y : -1.8561668703127743\n",
      "2022-10-22 21:11:17.752 | INFO     | my_script.utils:print_attr_shape:309 - noise : (50000, 3)\n",
      "2022-10-22 21:11:17.753 | INFO     | my_script.utils:print_attr_shape:309 - shift : (1, 3)\n",
      "2022-10-22 21:11:17.754 | INFO     | my_script.utils:print_attr_shape:307 - scale : 0.9910286421751656\n",
      "2022-10-22 21:11:17.755 | INFO     | my_script.utils:print_attr_shape:310 - \n",
      "==========================================================================\n",
      "2022-10-22 21:11:17.755 | INFO     | my_script.utils:print_attr_shape:313 - supervised_mask : ()\n",
      "2022-10-22 21:11:17.887 | INFO     | my_script.utils:print_attr_shape:313 - box_label_mask : (132,)\n",
      "2022-10-22 21:11:17.896 | INFO     | my_script.utils:print_attr_shape:313 - center_label : (132, 3)\n",
      "2022-10-22 21:11:17.897 | INFO     | my_script.utils:print_attr_shape:313 - sem_cls_label : (132,)\n",
      "2022-10-22 21:11:17.897 | INFO     | my_script.utils:print_attr_shape:313 - size_gts : (132, 3)\n",
      "2022-10-22 21:11:17.898 | INFO     | my_script.utils:print_attr_shape:295 - scan_ids : scene0191_02\n",
      "2022-10-22 21:11:17.899 | INFO     | my_script.utils:print_attr_shape:313 - point_clouds : (50000, 6)\n",
      "2022-10-22 21:11:17.899 | INFO     | my_script.utils:print_attr_shape:295 - utterances : cabinet . bed . chair . couch . table . door . window . bookshelf . picture . counter . desk . curtain . refrigerator . shower curtain . toilet . sink . bathtub . other furniture . not mentioned\n",
      "2022-10-22 21:11:17.900 | INFO     | my_script.utils:print_attr_shape:313 - tokens_positive : (132, 2)\n",
      "2022-10-22 21:11:17.901 | INFO     | my_script.utils:print_attr_shape:313 - positive_map : (132, 256)\n",
      "2022-10-22 21:11:17.901 | INFO     | my_script.utils:print_attr_shape:295 - relation : none\n",
      "2022-10-22 21:11:17.902 | INFO     | my_script.utils:print_attr_shape:295 - target_name : chair\n",
      "2022-10-22 21:11:17.903 | INFO     | my_script.utils:print_attr_shape:299 - target_id : 3\n",
      "2022-10-22 21:11:17.908 | INFO     | my_script.utils:print_attr_shape:313 - point_instance_label : (50000,)\n",
      "2022-10-22 21:11:17.909 | INFO     | my_script.utils:print_attr_shape:313 - all_bboxes : (132, 6)\n",
      "2022-10-22 21:11:17.909 | INFO     | my_script.utils:print_attr_shape:313 - all_bbox_label_mask : (132,)\n",
      "2022-10-22 21:11:17.910 | INFO     | my_script.utils:print_attr_shape:313 - all_class_ids : (132,)\n",
      "2022-10-22 21:11:17.911 | INFO     | my_script.utils:print_attr_shape:313 - distractor_ids : (32,)\n",
      "2022-10-22 21:11:17.911 | INFO     | my_script.utils:print_attr_shape:313 - anchor_ids : (32,)\n",
      "2022-10-22 21:11:17.912 | INFO     | my_script.utils:print_attr_shape:313 - all_detected_boxes : (132, 6)\n",
      "2022-10-22 21:11:17.913 | INFO     | my_script.utils:print_attr_shape:313 - all_detected_bbox_label_mask : (132,)\n",
      "2022-10-22 21:11:17.913 | INFO     | my_script.utils:print_attr_shape:313 - all_detected_class_ids : (132,)\n",
      "2022-10-22 21:11:17.914 | INFO     | my_script.utils:print_attr_shape:313 - all_detected_logits : (132, 485)\n",
      "2022-10-22 21:11:17.915 | INFO     | my_script.utils:print_attr_shape:297 - is_view_dep : False\n",
      "2022-10-22 21:11:17.916 | INFO     | my_script.utils:print_attr_shape:297 - is_hard : False\n",
      "2022-10-22 21:11:17.916 | INFO     | my_script.utils:print_attr_shape:297 - is_unique : True\n",
      "2022-10-22 21:11:17.917 | INFO     | my_script.utils:print_attr_shape:313 - target_cid : ()\n",
      "2022-10-22 21:11:17.918 | INFO     | my_script.utils:print_attr_shape:313 - pc_before_aug : (50000, 6)\n",
      "2022-10-22 21:11:17.918 | INFO     | my_script.utils:print_attr_shape:313 - teacher_box : (132, 6)\n",
      "2022-10-22 21:11:17.919 | INFO     | my_script.utils:print_attr_shape:301 - printing augmentations \n",
      "==========================================================================\n",
      "2022-10-22 21:11:17.920 | INFO     | my_script.utils:print_attr_shape:305 - yz_flip : False\n",
      "2022-10-22 21:11:17.920 | INFO     | my_script.utils:print_attr_shape:305 - xz_flip : False\n",
      "2022-10-22 21:11:17.921 | INFO     | my_script.utils:print_attr_shape:307 - theta_z : 178.0182458113606\n",
      "2022-10-22 21:11:17.921 | INFO     | my_script.utils:print_attr_shape:307 - theta_x : -0.47530739676917455\n",
      "2022-10-22 21:11:17.922 | INFO     | my_script.utils:print_attr_shape:307 - theta_y : -2.2065172562218245\n",
      "2022-10-22 21:11:17.923 | INFO     | my_script.utils:print_attr_shape:309 - noise : (50000, 3)\n",
      "2022-10-22 21:11:17.924 | INFO     | my_script.utils:print_attr_shape:309 - shift : (1, 3)\n",
      "2022-10-22 21:11:17.924 | INFO     | my_script.utils:print_attr_shape:307 - scale : 1.0017331156749854\n",
      "2022-10-22 21:11:17.925 | INFO     | my_script.utils:print_attr_shape:310 - \n",
      "==========================================================================\n",
      "2022-10-22 21:11:17.926 | INFO     | my_script.utils:print_attr_shape:313 - supervised_mask : ()\n"
     ]
    }
   ],
   "source": [
    "for  idx, data in enumerate(train_dataset):\n",
    "    print_attr_shape(data)\n",
    "    \n",
    "    if idx ==2:\n",
    "        break"
   ]
  },
  {
   "cell_type": "code",
   "execution_count": 5,
   "metadata": {},
   "outputs": [
    {
     "name": "stderr",
     "output_type": "stream",
     "text": [
      "2022-10-22 21:08:12.409 | INFO     | my_script.utils:print_attr_shape:313 - box_label_mask : (132,)\n",
      "2022-10-22 21:08:12.411 | INFO     | my_script.utils:print_attr_shape:313 - center_label : (132, 3)\n",
      "2022-10-22 21:08:12.413 | INFO     | my_script.utils:print_attr_shape:313 - sem_cls_label : (132,)\n",
      "2022-10-22 21:08:12.415 | INFO     | my_script.utils:print_attr_shape:313 - size_gts : (132, 3)\n",
      "2022-10-22 21:08:12.416 | INFO     | my_script.utils:print_attr_shape:295 - scan_ids : scene0528_00\n",
      "2022-10-22 21:08:12.416 | INFO     | my_script.utils:print_attr_shape:313 - point_clouds : (50000, 6)\n",
      "2022-10-22 21:08:12.417 | INFO     | my_script.utils:print_attr_shape:295 - utterances : cabinet . bed . chair . couch . table . door . window . bookshelf . picture . counter . desk . curtain . refrigerator . shower curtain . toilet . sink . bathtub . other furniture . not mentioned\n",
      "2022-10-22 21:08:12.418 | INFO     | my_script.utils:print_attr_shape:313 - tokens_positive : (132, 2)\n",
      "2022-10-22 21:08:12.419 | INFO     | my_script.utils:print_attr_shape:313 - positive_map : (132, 256)\n",
      "2022-10-22 21:08:12.420 | INFO     | my_script.utils:print_attr_shape:295 - relation : none\n",
      "2022-10-22 21:08:12.420 | INFO     | my_script.utils:print_attr_shape:295 - target_name : chair\n",
      "2022-10-22 21:08:12.421 | INFO     | my_script.utils:print_attr_shape:299 - target_id : 0\n",
      "2022-10-22 21:08:12.422 | INFO     | my_script.utils:print_attr_shape:313 - point_instance_label : (50000,)\n",
      "2022-10-22 21:08:12.422 | INFO     | my_script.utils:print_attr_shape:313 - all_bboxes : (132, 6)\n",
      "2022-10-22 21:08:12.423 | INFO     | my_script.utils:print_attr_shape:313 - all_bbox_label_mask : (132,)\n",
      "2022-10-22 21:08:12.424 | INFO     | my_script.utils:print_attr_shape:313 - all_class_ids : (132,)\n",
      "2022-10-22 21:08:12.424 | INFO     | my_script.utils:print_attr_shape:313 - distractor_ids : (32,)\n",
      "2022-10-22 21:08:12.427 | INFO     | my_script.utils:print_attr_shape:313 - anchor_ids : (32,)\n",
      "2022-10-22 21:08:12.427 | INFO     | my_script.utils:print_attr_shape:313 - all_detected_boxes : (132, 6)\n",
      "2022-10-22 21:08:12.428 | INFO     | my_script.utils:print_attr_shape:313 - all_detected_bbox_label_mask : (132,)\n",
      "2022-10-22 21:08:12.429 | INFO     | my_script.utils:print_attr_shape:313 - all_detected_class_ids : (132,)\n",
      "2022-10-22 21:08:12.429 | INFO     | my_script.utils:print_attr_shape:313 - all_detected_logits : (132, 485)\n",
      "2022-10-22 21:08:12.430 | INFO     | my_script.utils:print_attr_shape:297 - is_view_dep : False\n",
      "2022-10-22 21:08:12.431 | INFO     | my_script.utils:print_attr_shape:297 - is_hard : False\n",
      "2022-10-22 21:08:12.431 | INFO     | my_script.utils:print_attr_shape:297 - is_unique : True\n",
      "2022-10-22 21:08:12.432 | INFO     | my_script.utils:print_attr_shape:313 - target_cid : ()\n",
      "2022-10-22 21:08:12.433 | INFO     | my_script.utils:print_attr_shape:313 - pc_before_aug : (50000, 6)\n",
      "2022-10-22 21:08:12.433 | INFO     | my_script.utils:print_attr_shape:313 - teacher_box : (132, 6)\n",
      "2022-10-22 21:08:12.434 | INFO     | my_script.utils:print_attr_shape:301 - printing augmentations \n",
      "==========================================================================\n",
      "2022-10-22 21:08:12.435 | INFO     | my_script.utils:print_attr_shape:305 - yz_flip : False\n",
      "2022-10-22 21:08:12.436 | INFO     | my_script.utils:print_attr_shape:305 - xz_flip : True\n",
      "2022-10-22 21:08:12.437 | INFO     | my_script.utils:print_attr_shape:307 - theta_z : 181.04526734202983\n",
      "2022-10-22 21:08:12.437 | INFO     | my_script.utils:print_attr_shape:307 - theta_x : 1.1432518265206975\n",
      "2022-10-22 21:08:12.438 | INFO     | my_script.utils:print_attr_shape:307 - theta_y : 2.199145636601529\n",
      "2022-10-22 21:08:12.438 | INFO     | my_script.utils:print_attr_shape:309 - noise : (50000, 3)\n",
      "2022-10-22 21:08:12.439 | INFO     | my_script.utils:print_attr_shape:309 - shift : (1, 3)\n",
      "2022-10-22 21:08:12.439 | INFO     | my_script.utils:print_attr_shape:307 - scale : 1.016683798191198\n",
      "2022-10-22 21:08:12.440 | INFO     | my_script.utils:print_attr_shape:310 - \n",
      "==========================================================================\n",
      "2022-10-22 21:08:12.441 | INFO     | my_script.utils:print_attr_shape:313 - supervised_mask : ()\n"
     ]
    },
    {
     "name": "stdout",
     "output_type": "stream",
     "text": [
      " box num : 8\n",
      " label number :  19\n"
     ]
    }
   ],
   "source": [
    "\n",
    "prompt_demo_idx = 128\n",
    "train_dataset.__getitem__(prompt_demo_idx)['utterances']\n",
    "get_attr(data)\n",
    "print_attr_shape(data)\n",
    "print(f\" box num : {(data['box_label_mask']==1).sum()}\")\n",
    "print(f\" label number :  {len(data['utterances'].split('.'))}\")\n",
    "#todo : label 如何映射的? \n",
    "#todo :  utterances : 如何设计的 ?  如何设计positive and negtive\n",
    "#* \n"
   ]
  },
  {
   "cell_type": "code",
   "execution_count": 16,
   "metadata": {},
   "outputs": [
    {
     "name": "stderr",
     "output_type": "stream",
     "text": [
      "2022-10-21 14:52:20.817 | INFO     | __main__:<module>:24 - cabinet . bed . chair . couch . table . door . window . bookshelf . picture . counter . desk . curtain . refrigerator . shower curtain . toilet . sink . bathtub . other furniture . not mentioned\n",
      "2022-10-21 14:52:20.819 | INFO     | __main__:<module>:26 -  utterances length : 19\n",
      "2022-10-21 14:52:20.820 | INFO     | __main__:<module>:31 -  box  number in the scene  : 17\n",
      "2022-10-21 14:52:20.821 | INFO     | __main__:<module>:33 - referred tagret box number  in the scene  : 7\n",
      "2022-10-21 14:52:20.822 | INFO     | __main__:<module>:36 - referred target object sem_cls_label: [ 5  4  6 17  2  6  6]\n",
      "2022-10-21 14:52:20.824 | INFO     | __main__:<module>:46 -   5 object in the utterance is referred \n",
      "2022-10-21 14:52:20.825 | INFO     | __main__:<module>:47 - all text token referred as postive token  ['door', 'table', 'window', 'other furniture', 'chair', 'window', 'window']\n",
      "2022-10-21 14:52:20.825 | INFO     | __main__:<module>:48 -  7 referred as postive token\n",
      "2022-10-21 14:52:20.826 | INFO     | __main__:<module>:52 - data['distractor_ids'] : [-1 -1 -1 -1 -1 -1 -1 -1 -1 -1 -1 -1 -1 -1 -1 -1 -1 -1 -1 -1 -1 -1 -1 -1\n",
      " -1 -1 -1 -1 -1 -1 -1 -1],length : 32\n",
      "2022-10-21 14:52:20.827 | INFO     | __main__:<module>:53 - ,data['anchor_ids'] : [-1 -1 -1 -1 -1 -1 -1 -1 -1 -1 -1 -1 -1 -1 -1 -1 -1 -1 -1 -1 -1 -1 -1 -1\n",
      " -1 -1 -1 -1 -1 -1 -1 -1],len : 32\n",
      "2022-10-21 14:52:20.828 | INFO     | __main__:<module>:54 - data['target_cid'] : 4.0\n"
     ]
    }
   ],
   "source": [
    "\n",
    "\n",
    "def get_caption(utterances):\n",
    "    caption = ' '.join(utterances.replace(',', ' ,').split())\n",
    "    caption = ' ' + caption + ' '\n",
    "\n",
    "    \n",
    "    return caption\n",
    "'''\n",
    "description: 根据tokens_positive 从utterances 取text token \n",
    "param {*} utterances\n",
    "param {*} tokens_positive\n",
    "return {*}\n",
    "'''\n",
    "def get_token(utterances,tokens_positive):\n",
    "\n",
    "    caption = get_caption(utterances)\n",
    "    all_text_token_from_utterance = []\n",
    "    for start,end in tokens_positive:\n",
    "        tmp = caption[start:end+1].strip()\n",
    "        all_text_token_from_utterance.append(tmp)\n",
    "        # print(tmp,end='\\t')\n",
    "    return all_text_token_from_utterance\n",
    "\n",
    "\n",
    "logger.info(data['utterances'])\n",
    "all_labels = data['utterances'].split('.')\n",
    "logger.info(f\" utterances length : {len(all_labels)}\")\n",
    "\n",
    "# all_labels\n",
    "#?  negtive label 为什么会有box 与之对应呢?    多出来的两个box 是什么?  应该是与negtive sample对应的... \n",
    "all_box = data['all_bboxes'][data['all_bbox_label_mask']]\n",
    "logger.info(f\" box  number in the scene  : {len(all_box)}\")\n",
    "all_target_box = data['center_label'][data['box_label_mask']==1]\n",
    "logger.info(f\"referred tagret box number  in the scene  : {all_target_box.shape[0]}\") \n",
    "\n",
    "\n",
    "logger.info(f\"referred target object sem_cls_label: {data['sem_cls_label'][data['box_label_mask']==1]}\")#* 这个没用吗? 为什么sem_cls_label 都是对应0 ? \n",
    "\n",
    "# logger.info(f\"data['positive_map'].shape {data['positive_map'].shape}\")#* 这个跟 language model 的输出有关\n",
    "all_text_token_from_potive_token = get_token(data['utterances'],data['tokens_positive'][data['box_label_mask']==1])\n",
    "\n",
    "text_from_utterance_appear_in_positive_token = []\n",
    "for label in all_labels:\n",
    "    if label.strip() in all_text_token_from_potive_token:\n",
    "    \n",
    "        text_from_utterance_appear_in_positive_token.append(label)\n",
    "logger.info(f\"  {len(text_from_utterance_appear_in_positive_token)} object in the utterance is referred \")\n",
    "logger.info(f\"all text token referred as postive token  {all_text_token_from_potive_token}\")\n",
    "logger.info(f\" {len(all_text_token_from_potive_token)} referred as postive token\")\n",
    "#* 用utterances 去找只能找到  10个, 而referred target有15个, 也就是说有5个重复的目标, \n",
    "\n",
    "\n",
    "logger.info(f\"data['distractor_ids'] : {data['distractor_ids']},length : {len(data['distractor_ids'])}\")\n",
    "logger.info(f\",data['anchor_ids'] : {data['anchor_ids']},len : {len( data['anchor_ids'])}\")\n",
    "logger.info(f\"data['target_cid'] : {data['target_cid']}\")\n",
    "\n",
    "\n",
    "\n"
   ]
  },
  {
   "cell_type": "code",
   "execution_count": 8,
   "metadata": {},
   "outputs": [
    {
     "data": {
      "text/plain": [
       "(17, 6)"
      ]
     },
     "execution_count": 8,
     "metadata": {},
     "output_type": "execute_result"
    }
   ],
   "source": [
    "data['all_bboxes'][data['all_bbox_label_mask']].shape"
   ]
  },
  {
   "cell_type": "code",
   "execution_count": 9,
   "metadata": {},
   "outputs": [
    {
     "data": {
      "text/plain": [
       "array([  0,   0,   4,   3,  62,  62,  14,  42,  50,   1,  14, 325,  46,\n",
       "        14,  46,   2,   7])"
      ]
     },
     "execution_count": 9,
     "metadata": {},
     "output_type": "execute_result"
    }
   ],
   "source": [
    "data['all_class_ids'][data['all_bbox_label_mask']]"
   ]
  },
  {
   "cell_type": "code",
   "execution_count": null,
   "metadata": {},
   "outputs": [],
   "source": []
  },
  {
   "cell_type": "code",
   "execution_count": null,
   "metadata": {},
   "outputs": [],
   "source": []
  }
 ],
 "metadata": {
  "kernelspec": {
   "display_name": "Python 3.7.12 ('cerberus2')",
   "language": "python",
   "name": "python3"
  },
  "language_info": {
   "codemirror_mode": {
    "name": "ipython",
    "version": 3
   },
   "file_extension": ".py",
   "mimetype": "text/x-python",
   "name": "python",
   "nbconvert_exporter": "python",
   "pygments_lexer": "ipython3",
   "version": "3.7.12"
  },
  "orig_nbformat": 4,
  "vscode": {
   "interpreter": {
    "hash": "8c7eafccb8f457aa8ce756ee28bedbf2f0acb240aef93477faad38317e939d03"
   }
  }
 },
 "nbformat": 4,
 "nbformat_minor": 2
}
