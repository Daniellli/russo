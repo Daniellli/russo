{
 "cells": [
  {
   "cell_type": "code",
   "execution_count": null,
   "metadata": {},
   "outputs": [],
   "source": [
    "import os \n",
    "\n",
    "import os.path as osp\n",
    "\n",
    "import shutil\n",
    "os.chdir(osp.dirname(os.getcwd()))"
   ]
  },
  {
   "cell_type": "code",
   "execution_count": null,
   "metadata": {},
   "outputs": [],
   "source": [
    "\n",
    "from data.model_util_scannet import ScannetDatasetConfig\n",
    "import numpy as np \n",
    "import sys\n",
    "from loguru import logger\n",
    "from my_script.pc_utils import *\n",
    "from my_script.utils import *\n",
    "from tqdm import tqdm\n",
    "# from src.arkitscenes_dataset import ARKitSceneDataset"
   ]
  },
  {
   "cell_type": "code",
   "execution_count": null,
   "metadata": {},
   "outputs": [],
   "source": [
    "\n",
    "\n",
    "\n",
    "\n",
    "\n",
    "def is_exists(path):\n",
    "    return osp.exists(path)\n",
    "\n",
    "def get_new_path(data_root,scene_name):\n",
    "    return osp.join(data_root,scene_name,f'{scene_name}_offline_prepared_data_new2')\n",
    "\n",
    "\n",
    "\n",
    "def copyBox2NewDir(data_dir,scene_name):\n",
    "    src_file = osp.join(data_dir,f'{scene_name}_offline_prepared_data',f\"{scene_name}_bbox.npy\")\n",
    "    if osp.exists(src_file):\n",
    "        shutil.copy(src_file,osp.join(data_dir,f'{scene_name}_offline_prepared_data_new'))\n",
    "    \n",
    "    \n",
    "\n",
    "def copy_file(src,tgt_dir):\n",
    "\n",
    "    shutil.copy(src,tgt_dir)\n",
    "\n",
    "def copy_dir(src_dir,tgt_dir):\n",
    "\n",
    "    if  not osp.exists(tgt_dir):\n",
    "        shutil.copytree(src_dir,tgt_dir)\n",
    "\n",
    "    \n",
    "\n",
    "\n",
    "def  copy_datasets(split,new_datasets_name ='3dod2' ):\n",
    "    target_path = None \n",
    "\n",
    "    if split== \"train\":\n",
    "        data_path = os.path.join(BASE_DIR, 'dataset', \"3dod/Training\")\n",
    "    else :\n",
    "        data_path = os.path.join(BASE_DIR, 'dataset', \"3dod/Validation\")\n",
    "\n",
    "    scan_ids = open(osp.join(BASE_DIR,'dataset',f\"{split}_filtered.txt\")).read().strip().split(\"\\n\")\n",
    "\n",
    "\n",
    "    if split== \"train\":\n",
    "        target_path = os.path.join(BASE_DIR, 'dataset', f\"{new_datasets_name}/Training\")\n",
    "    else :\n",
    "        target_path = os.path.join(BASE_DIR, 'dataset', f\"{new_datasets_name}/Validation\")\n",
    "    make_dirs(target_path)\n",
    "\n",
    "\n",
    "    for scan_id in tqdm(scan_ids):\n",
    "        \n",
    "        src_p = get_new_path(data_path,scan_id)\n",
    "        tgt_p = get_new_path(target_path,scan_id)\n",
    "        # print(src_p)\n",
    "        # print(tgt_p)\n",
    "        copy_dir(src_p,tgt_p)\n",
    "        copy_file(osp.join(data_path,scan_id,f\"{scan_id}_3dod_annotation.json\"),tgt_p)\n",
    "\n",
    "\n",
    "\n",
    "\n",
    "BASE_DIR=\"datasets/ARKitScenes\"\n",
    "# split= \"train\"\n",
    "split= \"valid\"\n",
    "\n",
    "\n",
    "copy_datasets(split)\n",
    "    "
   ]
  },
  {
   "cell_type": "code",
   "execution_count": null,
   "metadata": {},
   "outputs": [],
   "source": []
  },
  {
   "cell_type": "code",
   "execution_count": null,
   "metadata": {},
   "outputs": [],
   "source": []
  },
  {
   "cell_type": "code",
   "execution_count": null,
   "metadata": {},
   "outputs": [],
   "source": []
  },
  {
   "cell_type": "code",
   "execution_count": null,
   "metadata": {},
   "outputs": [],
   "source": []
  },
  {
   "cell_type": "code",
   "execution_count": null,
   "metadata": {},
   "outputs": [],
   "source": []
  }
 ],
 "metadata": {
  "kernelspec": {
   "display_name": "Python 3.7.12 ('cerberus2')",
   "language": "python",
   "name": "python3"
  },
  "language_info": {
   "name": "python",
   "version": "3.7.12"
  },
  "orig_nbformat": 4,
  "vscode": {
   "interpreter": {
    "hash": "8c7eafccb8f457aa8ce756ee28bedbf2f0acb240aef93477faad38317e939d03"
   }
  }
 },
 "nbformat": 4,
 "nbformat_minor": 2
}
