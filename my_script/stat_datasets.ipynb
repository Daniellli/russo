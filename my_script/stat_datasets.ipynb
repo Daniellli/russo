{
 "cells": [
  {
   "cell_type": "code",
   "execution_count": 1,
   "metadata": {},
   "outputs": [],
   "source": [
    "import os\n",
    "import json\n",
    "\n",
    "import os.path as osp\n",
    "os.chdir(osp.dirname(os.getcwd()))\n",
    "\n"
   ]
  },
  {
   "cell_type": "code",
   "execution_count": 43,
   "metadata": {},
   "outputs": [
    {
     "name": "stderr",
     "output_type": "stream",
     "text": [
      "2022-10-14 22:48:22.383 | INFO     | __main__:get_refer_it_3D:32 - len of nr3d : 41503\n",
      "2022-10-14 22:48:22.384 | INFO     | __main__:get_refer_it_3D:34 -  column of nr3d : Index(['assignmentid', 'stimulus_id', 'utterance', 'correct_guess',\n",
      "       'speaker_id', 'listener_id', 'scan_id', 'instance_type', 'target_id',\n",
      "       'tokens', 'dataset', 'mentions_target_class', 'uses_object_lang',\n",
      "       'uses_spatial_lang', 'uses_color_lang', 'uses_shape_lang'],\n",
      "      dtype='object')\n",
      "2022-10-14 22:48:22.388 | INFO     | __main__:get_refer_it_3D:35 - scene number : 641\n",
      "2022-10-14 22:48:22.393 | INFO     | __main__:get_refer_it_3D:45 - min sample: 7 \n",
      " max sample : 259 \n",
      " avg sample: 64.74726989079564\n"
     ]
    },
    {
     "name": "stdout",
     "output_type": "stream",
     "text": [
      "assignmentid                                                         32618\n",
      "stimulus_id                             scene0525_00-plant-5-9-10-11-12-62\n",
      "utterance                The plant at the far right hand side of the bo...\n",
      "correct_guess                                                         True\n",
      "speaker_id                                                              47\n",
      "listener_id                                                            310\n",
      "scan_id                                                       scene0525_00\n",
      "instance_type                                                        plant\n",
      "target_id                                                                9\n",
      "tokens                   ['the', 'plant', 'at', 'the', 'far', 'right', ...\n",
      "dataset                                                               nr3d\n",
      "mentions_target_class                                                 True\n",
      "uses_object_lang                                                      True\n",
      "uses_spatial_lang                                                     True\n",
      "uses_color_lang                                                      False\n",
      "uses_shape_lang                                                      False\n",
      "Name: 0, dtype: object\n"
     ]
    }
   ],
   "source": [
    "\n",
    "import pandas as pd \n",
    "\n",
    "from collections import Counter\n",
    "\n",
    "import numpy as np\n",
    "\n",
    "from loguru import logger\n",
    "'''\n",
    "description:  获取SR3D 作者划分好的 训练集 和测试集\n",
    "param {*} split\n",
    "return {*}\n",
    "'''\n",
    "def get_split_list(dataset_name=\"sr3d\" ,split='train'):\n",
    "    with open('data/meta_data/%s_%s_scans.txt' % (dataset_name,split)) as f:\n",
    "        scan_ids = set(eval(f.read()))\n",
    "    logger.info(f\" len of {dataset_name,split} : {len(scan_ids)}\")\n",
    "    return scan_ids\n",
    "\n",
    "\n",
    "\n",
    "\n",
    "\n",
    "'''\n",
    "description:  从SR3D作者那获取 详细的标注数据\n",
    "param {*} split_name\n",
    "return {*}\n",
    "'''\n",
    "def get_refer_it_3D(split_name='sr3d'):\n",
    "    scanrefer_root=\"datasets/refer_it_3d\"\n",
    "    data = pd.read_csv(osp.join(scanrefer_root,split_name+\".csv\"))\n",
    "    \n",
    "    logger.info(f\"len of {split_name} : {data.shape[0]}\")\n",
    "    all_attrs = data.columns\n",
    "    logger.info(f\" column of {split_name} : {all_attrs}\")\n",
    "    logger.info(f\"scene number : {len(set(data['scan_id']))}\")\n",
    "\n",
    "    stat = Counter(data['scan_id'])\n",
    "\n",
    "    scane_stat = np.array([v for k ,v in stat.items()])\n",
    "    avg_sample =scane_stat.mean()\n",
    "    min_sample =scane_stat.min()\n",
    "    max_sample =scane_stat.max()\n",
    "\n",
    "\n",
    "    logger.info(f\"min sample: {min_sample} \\n max sample : {max_sample} \\n avg sample: {avg_sample}\")\n",
    "\n",
    "    \n",
    "    print(data.iloc[0,:])\n",
    "    return data\n",
    "    \n",
    "      \n",
    "\n",
    "\n",
    "\n",
    "def generate_NR3D_labeled_scene_txt(labeled_ratio):\n",
    "    nr3d_ids = get_split_list(dataset_name='nr3d')\n",
    "\n",
    "    num_scans = len(nr3d_ids)\n",
    "    num_labeled_scans = int(num_scans*labeled_ratio)\n",
    "\n",
    "\n",
    "    choices = np.random.choice(num_scans, num_labeled_scans, replace=False)#* 从num_scans 挑选num_labeled_scans 个场景 出来 \n",
    "\n",
    "    labeled_scan_names = list(np.array(list(nr3d_ids))[choices])\n",
    "    \n",
    "    with open(os.path.join('data/meta_data/nr3d_train_{}.txt'.format(labeled_ratio)), 'w') as f:\n",
    "        f.write('\\n'.join(labeled_scan_names))\n",
    "    \n",
    "    logger.info('\\tSelected {} labeled scans, remained {} unlabeled scans'.format(len(labeled_scan_names),num_scans- len(labeled_scan_names)))\n",
    "\n",
    "\n",
    "    \n",
    "    \n",
    "# sr3d_ids = get_split_list()\n",
    "# sr3d_ids_test = get_split_list(split = 'test')\n",
    "# nr3d_ids = get_split_list(dataset_name='nr3d')\n",
    "# nr3d_ids_test = get_split_list(dataset_name='nr3d',split = 'test')\n",
    "\n",
    "\n",
    "\n",
    "# get_refer_it_3D('sr3d+')\n",
    "# get_refer_it_3D('sr3d')\n",
    "# get_refer_it_3D('sr3d_test')\n",
    "# get_refer_it_3D('sr3d_train')\n",
    "\n",
    "nr3d = get_refer_it_3D('nr3d')"
   ]
  },
  {
   "cell_type": "code",
   "execution_count": 44,
   "metadata": {},
   "outputs": [
    {
     "name": "stderr",
     "output_type": "stream",
     "text": [
      "2022-10-14 22:49:17.837 | INFO     | __main__:get_split_list:16 -  len of ('nr3d', 'train') : 511\n",
      "2022-10-14 22:49:17.839 | INFO     | __main__:get_split_list:16 -  len of ('nr3d', 'test') : 130\n"
     ]
    },
    {
     "name": "stdout",
     "output_type": "stream",
     "text": [
      "len of train : 32919, len of test : 8584\n"
     ]
    }
   ],
   "source": [
    "\n",
    "\n",
    "\n",
    "nr3d_train =  get_split_list(dataset_name='nr3d')\n",
    "nr3d_test = get_split_list(dataset_name='nr3d',split='test')\n",
    "\n",
    "\n",
    "len_test= len_train= 0\n",
    "for idx in range(nr3d.shape[0]):\n",
    "    \n",
    "    if nr3d.iloc[idx,:]['scan_id'] in nr3d_train:\n",
    "        len_train+=1\n",
    "    else:\n",
    "        len_test+=1\n",
    "\n",
    "print(f\"len of train : {len_train}, len of test : {len_test}\")\n",
    "\n"
   ]
  },
  {
   "cell_type": "code",
   "execution_count": 31,
   "metadata": {},
   "outputs": [],
   "source": [
    "# for x in np.linspace(0.1,0.9,9):\n",
    "#     generate_NR3D_labeled_scene_txt(round(x,1))\n"
   ]
  },
  {
   "cell_type": "code",
   "execution_count": 22,
   "metadata": {},
   "outputs": [],
   "source": [
    "\n",
    "def get_scanrefer(split=None):\n",
    "    if split is not None :\n",
    "        path = \"datasets/scanrefer/ScanRefer_filtered_%s.json\"%split\n",
    "    else :\n",
    "        path = \"datasets/scanrefer/ScanRefer_filtered.json\"\n",
    "\n",
    "    with open (path,'r')as f :\n",
    "        data =json.load(f)\n",
    "    \n",
    "    length = len(data)\n",
    "    logger.info(f\" len of {split} split : {length}\")\n",
    "    all_scene = set([x['scene_id']  for x in data])\n",
    "    logger.info(f\" scene number  of {split} split : {len(all_scene)}\")\n",
    "\n",
    "    all_object_id = set([x['object_id']  for x in data])\n",
    "    logger.info(f\" object number  of {split} split : {len(all_object_id)}\")\n",
    "\n",
    "    all_anno_id = set([x['ann_id']  for x in data])\n",
    "    logger.info(f\" anno number  of {split} split : {len(all_anno_id)}\")\n",
    "\n",
    "    print(data[0])\n",
    "    \n",
    "    return all_scene\n",
    "\n",
    "\n",
    "\n",
    "def generate_scanrefer_labeled_scene_txt(labeled_ratio):\n",
    "    all_scenes = get_scanrefer(split='train')\n",
    "\n",
    "    num_scans = len(all_scenes)\n",
    "    num_labeled_scans = int(num_scans*labeled_ratio)\n",
    "\n",
    "\n",
    "    choices = np.random.choice(num_scans, num_labeled_scans, replace=False)#* 从num_scans 挑选num_labeled_scans 个场景 出来 \n",
    "\n",
    "    labeled_scan_names = list(np.array(list(all_scenes))[choices])\n",
    "    \n",
    "    with open(os.path.join('datasets/scanrefer/ScanRefer_filtered_train_{}.txt'.format(labeled_ratio)), 'w') as f:\n",
    "        f.write('\\n'.join(labeled_scan_names))\n",
    "    \n",
    "    logger.info('\\tSelected {} labeled scans, remained {} unlabeled scans'.format(len(labeled_scan_names),num_scans- len(labeled_scan_names)))\n",
    "\n",
    "\n",
    "    \n",
    "    \n",
    "        \n",
    "\n",
    "\n",
    "# get_scanrefer(split='val')\n",
    "# get_scanrefer(split='test')\n",
    "# get_scanrefer(split='train')\n",
    "# get_scanrefer()\n",
    "\n"
   ]
  },
  {
   "cell_type": "code",
   "execution_count": 5,
   "metadata": {},
   "outputs": [],
   "source": [
    "\n",
    "# for x in np.linspace(0.1,0.9,9):\n",
    "#     generate_scanrefer_labeled_scene_txt(round(x,1))"
   ]
  },
  {
   "cell_type": "code",
   "execution_count": null,
   "metadata": {},
   "outputs": [],
   "source": []
  }
 ],
 "metadata": {
  "kernelspec": {
   "display_name": "Python 3.7.12 ('cerberus2')",
   "language": "python",
   "name": "python3"
  },
  "language_info": {
   "codemirror_mode": {
    "name": "ipython",
    "version": 3
   },
   "file_extension": ".py",
   "mimetype": "text/x-python",
   "name": "python",
   "nbconvert_exporter": "python",
   "pygments_lexer": "ipython3",
   "version": "3.7.12"
  },
  "orig_nbformat": 4,
  "vscode": {
   "interpreter": {
    "hash": "8c7eafccb8f457aa8ce756ee28bedbf2f0acb240aef93477faad38317e939d03"
   }
  }
 },
 "nbformat": 4,
 "nbformat_minor": 2
}
